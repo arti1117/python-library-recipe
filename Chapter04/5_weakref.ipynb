{
 "cells": [
  {
   "cell_type": "code",
   "execution_count": 1,
   "metadata": {},
   "outputs": [],
   "source": [
    "_files = {}\n",
    "def share_file(filename):\n",
    "    if filename not in _files:\n",
    "        ret = _files[filename] = open(filename)\n",
    "    else:\n",
    "        ret = _files[filename]\n",
    "    return ret"
   ]
  },
  {
   "cell_type": "code",
   "execution_count": 2,
   "metadata": {},
   "outputs": [],
   "source": [
    "import weakref\n",
    "_files = weakref.WeakValueDictionary()\n",
    "def share_file(filename):\n",
    "    if filename not in _files:\n",
    "        ret = _files[filename] = open(filename)\n",
    "    else:\n",
    "        ret = _files[filename]\n",
    "    return ret"
   ]
  },
  {
   "cell_type": "code",
   "execution_count": null,
   "metadata": {},
   "outputs": [],
   "source": []
  }
 ],
 "metadata": {
  "kernelspec": {
   "display_name": "Python 3",
   "language": "python",
   "name": "python3"
  },
  "language_info": {
   "codemirror_mode": {
    "name": "ipython",
    "version": 3
   },
   "file_extension": ".py",
   "mimetype": "text/x-python",
   "name": "python",
   "nbconvert_exporter": "python",
   "pygments_lexer": "ipython3",
   "version": "3.7.6"
  }
 },
 "nbformat": 4,
 "nbformat_minor": 4
}
