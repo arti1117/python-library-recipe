{
 "cells": [
  {
   "cell_type": "code",
   "execution_count": 2,
   "metadata": {},
   "outputs": [
    {
     "name": "stdout",
     "output_type": "stream",
     "text": [
      "{'경기도': '수원', '강원도': '춘천', '충청북도': '청주', '충청남도': '홍성', '경상북도': '안동', '경상남도': '창원', '전라북도': '전주', '전라남도': '무안', '제주도': '제주'}\n"
     ]
    }
   ],
   "source": [
    "prefs = {\n",
    "    '경기도': '수원', '강원도': '춘천', '충청북도': '청주', '충청남도': '홍성', \n",
    "    '경상북도': '안동', '경상남도': '창원', '전라북도': '전주', '전라남도': '무안',\n",
    "    '제주도': '제주'}\n",
    "\n",
    "print(prefs)"
   ]
  },
  {
   "cell_type": "code",
   "execution_count": 3,
   "metadata": {},
   "outputs": [
    {
     "name": "stdout",
     "output_type": "stream",
     "text": [
      "{'강원도': '춘천',\n",
      " '경기도': '수원',\n",
      " '경상남도': '창원',\n",
      " '경상북도': '안동',\n",
      " '전라남도': '무안',\n",
      " '전라북도': '전주',\n",
      " '제주도': '제주',\n",
      " '충청남도': '홍성',\n",
      " '충청북도': '청주'}\n"
     ]
    }
   ],
   "source": [
    "import pprint\n",
    "pprint.pprint(prefs)"
   ]
  },
  {
   "cell_type": "code",
   "execution_count": 4,
   "metadata": {},
   "outputs": [
    {
     "name": "stdout",
     "output_type": "stream",
     "text": [
      "[('경기도', '수원'),\n",
      " ('강원도', '춘천'),\n",
      " ('충청북도', '청주'),\n",
      " ('충청남도', '홍성'),\n",
      " ('경상북도', '안동'),\n",
      " ('경상남도', '창원'),\n",
      " ('전라북도', '전주'),\n",
      " ('전라남도', '무안'),\n",
      " ('제주도', '제주')]\n"
     ]
    }
   ],
   "source": [
    "pprint.pprint(list(prefs.items()))"
   ]
  },
  {
   "cell_type": "code",
   "execution_count": null,
   "metadata": {},
   "outputs": [],
   "source": []
  }
 ],
 "metadata": {
  "kernelspec": {
   "display_name": "Python 3",
   "language": "python",
   "name": "python3"
  },
  "language_info": {
   "codemirror_mode": {
    "name": "ipython",
    "version": 3
   },
   "file_extension": ".py",
   "mimetype": "text/x-python",
   "name": "python",
   "nbconvert_exporter": "python",
   "pygments_lexer": "ipython3",
   "version": "3.7.6"
  }
 },
 "nbformat": 4,
 "nbformat_minor": 4
}
