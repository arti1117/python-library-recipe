{
 "cells": [
  {
   "cell_type": "code",
   "execution_count": 1,
   "metadata": {},
   "outputs": [
    {
     "name": "stdout",
     "output_type": "stream",
     "text": [
      "1\n",
      "2\n",
      "6\n"
     ]
    }
   ],
   "source": [
    "import itertools\n",
    "def spam(left, right):\n",
    "    return left * right\n",
    "\n",
    "for v in itertools.accumulate([1, 2, 3], spam):\n",
    "    print(v)\n"
   ]
  },
  {
   "cell_type": "code",
   "execution_count": 2,
   "metadata": {},
   "outputs": [],
   "source": [
    "it = itertools.accumulate([1, 2, 3, 4], spam)"
   ]
  },
  {
   "cell_type": "code",
   "execution_count": 3,
   "metadata": {},
   "outputs": [
    {
     "data": {
      "text/plain": [
       "1"
      ]
     },
     "execution_count": 3,
     "metadata": {},
     "output_type": "execute_result"
    }
   ],
   "source": [
    "next(it)"
   ]
  },
  {
   "cell_type": "code",
   "execution_count": 4,
   "metadata": {},
   "outputs": [
    {
     "data": {
      "text/plain": [
       "2"
      ]
     },
     "execution_count": 4,
     "metadata": {},
     "output_type": "execute_result"
    }
   ],
   "source": [
    "next(it)"
   ]
  },
  {
   "cell_type": "code",
   "execution_count": 5,
   "metadata": {},
   "outputs": [
    {
     "data": {
      "text/plain": [
       "6"
      ]
     },
     "execution_count": 5,
     "metadata": {},
     "output_type": "execute_result"
    }
   ],
   "source": [
    "next(it)"
   ]
  },
  {
   "cell_type": "code",
   "execution_count": 6,
   "metadata": {},
   "outputs": [
    {
     "data": {
      "text/plain": [
       "24"
      ]
     },
     "execution_count": 6,
     "metadata": {},
     "output_type": "execute_result"
    }
   ],
   "source": [
    "next(it)"
   ]
  },
  {
   "cell_type": "code",
   "execution_count": 7,
   "metadata": {},
   "outputs": [
    {
     "ename": "StopIteration",
     "evalue": "",
     "output_type": "error",
     "traceback": [
      "\u001b[0;31m---------------------------------------------------------------------------\u001b[0m",
      "\u001b[0;31mStopIteration\u001b[0m                             Traceback (most recent call last)",
      "\u001b[0;32m<ipython-input-7-bc1ab118995a>\u001b[0m in \u001b[0;36m<module>\u001b[0;34m\u001b[0m\n\u001b[0;32m----> 1\u001b[0;31m \u001b[0mnext\u001b[0m\u001b[0;34m(\u001b[0m\u001b[0mit\u001b[0m\u001b[0;34m)\u001b[0m\u001b[0;34m\u001b[0m\u001b[0;34m\u001b[0m\u001b[0m\n\u001b[0m",
      "\u001b[0;31mStopIteration\u001b[0m: "
     ]
    }
   ],
   "source": [
    "next(it)"
   ]
  },
  {
   "cell_type": "code",
   "execution_count": 8,
   "metadata": {},
   "outputs": [
    {
     "name": "stdout",
     "output_type": "stream",
     "text": [
      "1\n",
      "2\n",
      "3\n",
      "b\n",
      "a\n",
      "c\n"
     ]
    }
   ],
   "source": [
    "it = itertools.chain([1, 2, 3], {'a', 'b', 'c'})\n",
    "for v in it:\n",
    "    print(v)"
   ]
  },
  {
   "cell_type": "code",
   "execution_count": 9,
   "metadata": {},
   "outputs": [
    {
     "name": "stdout",
     "output_type": "stream",
     "text": [
      "1\n",
      "2\n",
      "3\n",
      "4\n",
      "b\n",
      "a\n",
      "c\n"
     ]
    }
   ],
   "source": [
    "it = ([1, 2, 3, 4], {'a', 'b', 'c'})\n",
    "for c in itertools.chain.from_iterable(it):\n",
    "    print(c)"
   ]
  },
  {
   "cell_type": "code",
   "execution_count": 10,
   "metadata": {},
   "outputs": [
    {
     "name": "stdout",
     "output_type": "stream",
     "text": [
      "('A', 'B')\n",
      "('A', 'C')\n",
      "('B', 'A')\n",
      "('B', 'C')\n",
      "('C', 'A')\n",
      "('C', 'B')\n"
     ]
    }
   ],
   "source": [
    "for v in itertools.permutations('ABC', 2):\n",
    "    print(v)"
   ]
  },
  {
   "cell_type": "code",
   "execution_count": 11,
   "metadata": {},
   "outputs": [
    {
     "name": "stdout",
     "output_type": "stream",
     "text": [
      "('A', 'B')\n",
      "('A', 'C')\n",
      "('B', 'C')\n"
     ]
    }
   ],
   "source": [
    "for v in itertools.combinations('ABC', 2):\n",
    "    print(v)\n"
   ]
  },
  {
   "cell_type": "code",
   "execution_count": 12,
   "metadata": {},
   "outputs": [
    {
     "name": "stdout",
     "output_type": "stream",
     "text": [
      "('A', 'A')\n",
      "('A', 'B')\n",
      "('A', 'C')\n",
      "('B', 'B')\n",
      "('B', 'C')\n",
      "('C', 'C')\n"
     ]
    }
   ],
   "source": [
    "for v in itertools.combinations_with_replacement('ABC', 2):\n",
    "    print(v)"
   ]
  },
  {
   "cell_type": "code",
   "execution_count": 13,
   "metadata": {},
   "outputs": [
    {
     "name": "stdout",
     "output_type": "stream",
     "text": [
      "('A', 1)\n",
      "('A', 2)\n",
      "('A', 3)\n",
      "('B', 1)\n",
      "('B', 2)\n",
      "('B', 3)\n",
      "('C', 1)\n",
      "('C', 2)\n",
      "('C', 3)\n"
     ]
    }
   ],
   "source": [
    "for v in itertools.product('ABC', [1, 2, 3]):\n",
    "    print(v)"
   ]
  },
  {
   "cell_type": "code",
   "execution_count": 31,
   "metadata": {},
   "outputs": [
    {
     "name": "stdout",
     "output_type": "stream",
     "text": [
      "('A', 1)\n",
      "('A', 2)\n",
      "('A', 3)\n",
      "('B', 1)\n",
      "('B', 2)\n",
      "('B', 3)\n",
      "('C', 1)\n",
      "('C', 2)\n",
      "('C', 3)\n"
     ]
    }
   ],
   "source": [
    "def prod():\n",
    "    for p in 'ABC':\n",
    "        for q in [1, 2, 3]:\n",
    "            yield(p, q)\n",
    "            \n",
    "prod()\n",
    "type(prod())\n",
    "for i in prod():\n",
    "    print(i)"
   ]
  },
  {
   "cell_type": "code",
   "execution_count": 32,
   "metadata": {},
   "outputs": [
    {
     "name": "stdout",
     "output_type": "stream",
     "text": [
      "('A', 1, 'A', 1)\n",
      "('A', 1, 'A', 2)\n",
      "('A', 1, 'A', 3)\n",
      "('A', 1, 'B', 1)\n",
      "('A', 1, 'B', 2)\n",
      "('A', 1, 'B', 3)\n",
      "('A', 1, 'C', 1)\n",
      "('A', 1, 'C', 2)\n",
      "('A', 1, 'C', 3)\n",
      "('A', 2, 'A', 1)\n",
      "('A', 2, 'A', 2)\n",
      "('A', 2, 'A', 3)\n",
      "('A', 2, 'B', 1)\n",
      "('A', 2, 'B', 2)\n",
      "('A', 2, 'B', 3)\n",
      "('A', 2, 'C', 1)\n",
      "('A', 2, 'C', 2)\n",
      "('A', 2, 'C', 3)\n",
      "('A', 3, 'A', 1)\n",
      "('A', 3, 'A', 2)\n",
      "('A', 3, 'A', 3)\n",
      "('A', 3, 'B', 1)\n",
      "('A', 3, 'B', 2)\n",
      "('A', 3, 'B', 3)\n",
      "('A', 3, 'C', 1)\n",
      "('A', 3, 'C', 2)\n",
      "('A', 3, 'C', 3)\n",
      "('B', 1, 'A', 1)\n",
      "('B', 1, 'A', 2)\n",
      "('B', 1, 'A', 3)\n",
      "('B', 1, 'B', 1)\n",
      "('B', 1, 'B', 2)\n",
      "('B', 1, 'B', 3)\n",
      "('B', 1, 'C', 1)\n",
      "('B', 1, 'C', 2)\n",
      "('B', 1, 'C', 3)\n",
      "('B', 2, 'A', 1)\n",
      "('B', 2, 'A', 2)\n",
      "('B', 2, 'A', 3)\n",
      "('B', 2, 'B', 1)\n",
      "('B', 2, 'B', 2)\n",
      "('B', 2, 'B', 3)\n",
      "('B', 2, 'C', 1)\n",
      "('B', 2, 'C', 2)\n",
      "('B', 2, 'C', 3)\n",
      "('B', 3, 'A', 1)\n",
      "('B', 3, 'A', 2)\n",
      "('B', 3, 'A', 3)\n",
      "('B', 3, 'B', 1)\n",
      "('B', 3, 'B', 2)\n",
      "('B', 3, 'B', 3)\n",
      "('B', 3, 'C', 1)\n",
      "('B', 3, 'C', 2)\n",
      "('B', 3, 'C', 3)\n",
      "('C', 1, 'A', 1)\n",
      "('C', 1, 'A', 2)\n",
      "('C', 1, 'A', 3)\n",
      "('C', 1, 'B', 1)\n",
      "('C', 1, 'B', 2)\n",
      "('C', 1, 'B', 3)\n",
      "('C', 1, 'C', 1)\n",
      "('C', 1, 'C', 2)\n",
      "('C', 1, 'C', 3)\n",
      "('C', 2, 'A', 1)\n",
      "('C', 2, 'A', 2)\n",
      "('C', 2, 'A', 3)\n",
      "('C', 2, 'B', 1)\n",
      "('C', 2, 'B', 2)\n",
      "('C', 2, 'B', 3)\n",
      "('C', 2, 'C', 1)\n",
      "('C', 2, 'C', 2)\n",
      "('C', 2, 'C', 3)\n",
      "('C', 3, 'A', 1)\n",
      "('C', 3, 'A', 2)\n",
      "('C', 3, 'A', 3)\n",
      "('C', 3, 'B', 1)\n",
      "('C', 3, 'B', 2)\n",
      "('C', 3, 'B', 3)\n",
      "('C', 3, 'C', 1)\n",
      "('C', 3, 'C', 2)\n",
      "('C', 3, 'C', 3)\n"
     ]
    }
   ],
   "source": [
    "def prod():\n",
    "    for p in 'ABC':\n",
    "        for q in [1, 2, 3]:\n",
    "            for r in 'ABC':\n",
    "                for s in [1, 2, 3]:\n",
    "                    yield(p, q, r, s)\n",
    "\n",
    "next(prod())\n",
    "for v in prod():\n",
    "    print(v)"
   ]
  },
  {
   "cell_type": "code",
   "execution_count": 33,
   "metadata": {},
   "outputs": [
    {
     "name": "stdout",
     "output_type": "stream",
     "text": [
      "2\n",
      "4\n",
      "6\n"
     ]
    }
   ],
   "source": [
    "def is_even(n):\n",
    "    return n % 2 == 0\n",
    "\n",
    "for v in filter(is_even, [1, 2, 3, 4, 5, 6]):\n",
    "    print(v)"
   ]
  },
  {
   "cell_type": "code",
   "execution_count": 35,
   "metadata": {},
   "outputs": [
    {
     "name": "stdout",
     "output_type": "stream",
     "text": [
      "1\n",
      "Spam\n",
      "[1]\n"
     ]
    }
   ],
   "source": [
    "items = [1, 0, 'Spam', '', [], [1]]\n",
    "for v in filter(None, items):\n",
    "    print(v)"
   ]
  },
  {
   "cell_type": "code",
   "execution_count": 36,
   "metadata": {},
   "outputs": [
    {
     "name": "stdout",
     "output_type": "stream",
     "text": [
      "1\n",
      "3\n",
      "5\n"
     ]
    }
   ],
   "source": [
    "for v in itertools.filterfalse(is_even, [1, 2, 3, 4, 5, 6]):\n",
    "    print(v)"
   ]
  },
  {
   "cell_type": "code",
   "execution_count": 37,
   "metadata": {},
   "outputs": [
    {
     "name": "stdout",
     "output_type": "stream",
     "text": [
      "0\n",
      "\n",
      "[]\n"
     ]
    }
   ],
   "source": [
    "for v in itertools.filterfalse(None, items):\n",
    "    print(v)"
   ]
  },
  {
   "cell_type": "code",
   "execution_count": 38,
   "metadata": {},
   "outputs": [
    {
     "name": "stdout",
     "output_type": "stream",
     "text": [
      "spam\n",
      "egg\n"
     ]
    }
   ],
   "source": [
    "for v in itertools.compress(['spam', 'ham', 'egg'], [1, 0, 1]):\n",
    "    print(v)"
   ]
  },
  {
   "cell_type": "code",
   "execution_count": 3,
   "metadata": {},
   "outputs": [
    {
     "name": "stdout",
     "output_type": "stream",
     "text": [
      "1\n",
      "3\n",
      "5\n"
     ]
    }
   ],
   "source": [
    "import itertools\n",
    "for v in itertools.count(1, 2):\n",
    "    if v > 5: break\n",
    "    print(v)"
   ]
  },
  {
   "cell_type": "code",
   "execution_count": 4,
   "metadata": {},
   "outputs": [
    {
     "data": {
      "text/plain": [
       "[0, 1, 2, 3, 4]"
      ]
     },
     "execution_count": 4,
     "metadata": {},
     "output_type": "execute_result"
    }
   ],
   "source": [
    "list(itertools.islice([0, 1, 2, 3, 4, 5, 6, 7, 8, 9], 5))"
   ]
  },
  {
   "cell_type": "code",
   "execution_count": 6,
   "metadata": {},
   "outputs": [
    {
     "data": {
      "text/plain": [
       "[4, 7]"
      ]
     },
     "execution_count": 6,
     "metadata": {},
     "output_type": "execute_result"
    }
   ],
   "source": [
    "list(itertools.islice(itertools.count(1, 1), 3, 8, 2))"
   ]
  },
  {
   "cell_type": "code",
   "execution_count": 9,
   "metadata": {},
   "outputs": [],
   "source": [
    "def is_odd(v):\n",
    "    return v % 2"
   ]
  },
  {
   "cell_type": "code",
   "execution_count": 11,
   "metadata": {},
   "outputs": [
    {
     "data": {
      "text/plain": [
       "[2, 1, 2, 3, 4]"
      ]
     },
     "execution_count": 11,
     "metadata": {},
     "output_type": "execute_result"
    }
   ],
   "source": [
    "list(itertools.dropwhile(is_odd, [1, 2, 1, 2, 3, 4]))"
   ]
  },
  {
   "cell_type": "code",
   "execution_count": 13,
   "metadata": {},
   "outputs": [
    {
     "data": {
      "text/plain": [
       "[1, 1, 1]"
      ]
     },
     "execution_count": 13,
     "metadata": {},
     "output_type": "execute_result"
    }
   ],
   "source": [
    "list(itertools.takewhile(is_odd, [1, 1, 1, 2, 1, 2, 3, 4]))"
   ]
  },
  {
   "cell_type": "code",
   "execution_count": 14,
   "metadata": {},
   "outputs": [
    {
     "data": {
      "text/plain": [
       "['a', 'a', 'a', 'a', 'a']"
      ]
     },
     "execution_count": 14,
     "metadata": {},
     "output_type": "execute_result"
    }
   ],
   "source": [
    "list(itertools.repeat('a', 5))"
   ]
  },
  {
   "cell_type": "code",
   "execution_count": 17,
   "metadata": {},
   "outputs": [
    {
     "name": "stdout",
     "output_type": "stream",
     "text": [
      "b\n",
      "c\n",
      "a\n",
      "b\n"
     ]
    }
   ],
   "source": [
    "for c in itertools.islice(itertools.cycle('abc'), 1, 5):\n",
    "    print(c)"
   ]
  },
  {
   "cell_type": "code",
   "execution_count": 18,
   "metadata": {},
   "outputs": [
    {
     "name": "stdout",
     "output_type": "stream",
     "text": [
      "a <itertools._grouper object at 0x7f875c3008d0> ('a',)\n",
      "b <itertools._grouper object at 0x7f875c300d90> ('b',)\n",
      "c <itertools._grouper object at 0x7f875c303150> ('c', 'c')\n",
      "d <itertools._grouper object at 0x7f875c303490> ('d', 'd')\n",
      "e <itertools._grouper object at 0x7f875c3037d0> ('e',)\n"
     ]
    }
   ],
   "source": [
    "for value, group in itertools.groupby(['a', 'b', 'c', 'c', 'd', 'd', 'e']):\n",
    "    print(value, group, tuple(group))"
   ]
  },
  {
   "cell_type": "code",
   "execution_count": 19,
   "metadata": {},
   "outputs": [
    {
     "name": "stdout",
     "output_type": "stream",
     "text": [
      "False (10, 20)\n",
      "True (31, 11, 3)\n",
      "False (4,)\n"
     ]
    }
   ],
   "source": [
    "for value, group in itertools.groupby([10, 20, 31, 11, 3, 4], is_odd):\n",
    "    print(value, tuple(group))"
   ]
  },
  {
   "cell_type": "code",
   "execution_count": 20,
   "metadata": {},
   "outputs": [
    {
     "name": "stdout",
     "output_type": "stream",
     "text": [
      "(1, 'a', '가')\n",
      "(2, 'b', '나')\n",
      "(3, 'c', '다')\n"
     ]
    }
   ],
   "source": [
    "for v in zip((1, 2, 3), ('a','b','c'), ('가', '나', '다')):\n",
    "    print(v)"
   ]
  },
  {
   "cell_type": "code",
   "execution_count": 21,
   "metadata": {},
   "outputs": [
    {
     "data": {
      "text/plain": [
       "[(1, 4, 7), (2, 5, 8), (3, 6, 9)]"
      ]
     },
     "execution_count": 21,
     "metadata": {},
     "output_type": "execute_result"
    }
   ],
   "source": [
    "matrix = [(1, 2, 3), (4, 5, 6), (7, 8, 9)]\n",
    "transformed = list(zip(*matrix))\n",
    "transformed"
   ]
  },
  {
   "cell_type": "code",
   "execution_count": 23,
   "metadata": {},
   "outputs": [
    {
     "data": {
      "text/plain": [
       "[(1, 2, 3), (4, 5, 6), (7, 8, 9)]"
      ]
     },
     "execution_count": 23,
     "metadata": {},
     "output_type": "execute_result"
    }
   ],
   "source": [
    "list(zip(*transformed))"
   ]
  },
  {
   "cell_type": "code",
   "execution_count": 24,
   "metadata": {},
   "outputs": [
    {
     "name": "stdout",
     "output_type": "stream",
     "text": [
      "('a', '1', '가')\n",
      "('b', '2', '나')\n",
      "('c', '3', '다')\n",
      "('d', '-', '라')\n",
      "('e', '-', '마')\n",
      "('f', '-', '-')\n",
      "('g', '-', '-')\n"
     ]
    }
   ],
   "source": [
    "for v in itertools.zip_longest('abcdefg', '123', '가나다라마', fillvalue='-'):\n",
    "    print(v)"
   ]
  },
  {
   "cell_type": "code",
   "execution_count": 27,
   "metadata": {},
   "outputs": [
    {
     "name": "stdout",
     "output_type": "stream",
     "text": [
      "('a', '1', '가')\n",
      "('b', '2', '나')\n",
      "('c', '3', '다')\n"
     ]
    }
   ],
   "source": [
    "for v in zip('abcdefg', '123', '가나다라마'):\n",
    "    print(v)"
   ]
  },
  {
   "cell_type": "code",
   "execution_count": 28,
   "metadata": {},
   "outputs": [
    {
     "name": "stdout",
     "output_type": "stream",
     "text": [
      "@\n",
      "B\n",
      "D\n",
      "H\n"
     ]
    }
   ],
   "source": [
    "for v in map(chr, [0x40, 0x42, 0x44, 0x48]):\n",
    "    print(v)"
   ]
  },
  {
   "cell_type": "code",
   "execution_count": 29,
   "metadata": {},
   "outputs": [
    {
     "name": "stdout",
     "output_type": "stream",
     "text": [
      "e\n",
      "a\n",
      "a\n"
     ]
    }
   ],
   "source": [
    "for v in map(min, 'spam', 'ham', 'egg'):\n",
    "    print(v)"
   ]
  },
  {
   "cell_type": "code",
   "execution_count": 30,
   "metadata": {},
   "outputs": [
    {
     "data": {
      "text/plain": [
       "'a'"
      ]
     },
     "execution_count": 30,
     "metadata": {},
     "output_type": "execute_result"
    }
   ],
   "source": [
    "min('spam')"
   ]
  },
  {
   "cell_type": "code",
   "execution_count": 31,
   "metadata": {},
   "outputs": [
    {
     "name": "stdout",
     "output_type": "stream",
     "text": [
      "a\n",
      "a\n",
      "e\n"
     ]
    }
   ],
   "source": [
    "iterables = ['spam', 'ham', 'egg']\n",
    "for v in itertools.starmap(min, iterables):\n",
    "    print(v)"
   ]
  },
  {
   "cell_type": "code",
   "execution_count": 32,
   "metadata": {},
   "outputs": [
    {
     "name": "stdout",
     "output_type": "stream",
     "text": [
      "a\n",
      "a\n",
      "e\n"
     ]
    }
   ],
   "source": [
    "for v in map(min, iterables):\n",
    "    print(v)"
   ]
  },
  {
   "cell_type": "code",
   "execution_count": 33,
   "metadata": {},
   "outputs": [
    {
     "name": "stdout",
     "output_type": "stream",
     "text": [
      "e\n",
      "a\n",
      "a\n"
     ]
    }
   ],
   "source": [
    "for v in map(min, *iterables):\n",
    "    print(v)"
   ]
  },
  {
   "cell_type": "code",
   "execution_count": 34,
   "metadata": {},
   "outputs": [
    {
     "data": {
      "text/plain": [
       "['spam', 'ham', 'egg']"
      ]
     },
     "execution_count": 34,
     "metadata": {},
     "output_type": "execute_result"
    }
   ],
   "source": [
    "iterables"
   ]
  },
  {
   "cell_type": "code",
   "execution_count": 38,
   "metadata": {},
   "outputs": [],
   "source": [
    "import random\n",
    "def values():\n",
    "    for i in range(10):\n",
    "        yield random.random()"
   ]
  },
  {
   "cell_type": "code",
   "execution_count": 39,
   "metadata": {},
   "outputs": [],
   "source": [
    "iter = values()"
   ]
  },
  {
   "cell_type": "code",
   "execution_count": 40,
   "metadata": {},
   "outputs": [
    {
     "data": {
      "text/plain": [
       "(3.7690368109417465, 3.7690368109417465, 3.7690368109417465)"
      ]
     },
     "execution_count": 40,
     "metadata": {},
     "output_type": "execute_result"
    }
   ],
   "source": [
    "a, b, c = itertools.tee(iter, 3)\n",
    "sum(a), sum(b), sum(c)"
   ]
  },
  {
   "cell_type": "code",
   "execution_count": null,
   "metadata": {},
   "outputs": [],
   "source": []
  },
  {
   "cell_type": "code",
   "execution_count": null,
   "metadata": {},
   "outputs": [],
   "source": []
  }
 ],
 "metadata": {
  "kernelspec": {
   "display_name": "Python 3",
   "language": "python",
   "name": "python3"
  },
  "language_info": {
   "codemirror_mode": {
    "name": "ipython",
    "version": 3
   },
   "file_extension": ".py",
   "mimetype": "text/x-python",
   "name": "python",
   "nbconvert_exporter": "python",
   "pygments_lexer": "ipython3",
   "version": "3.7.6"
  }
 },
 "nbformat": 4,
 "nbformat_minor": 4
}
