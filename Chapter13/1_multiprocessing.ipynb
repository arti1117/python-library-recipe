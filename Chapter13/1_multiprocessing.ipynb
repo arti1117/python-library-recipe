{
 "cells": [
  {
   "cell_type": "code",
   "execution_count": 11,
   "metadata": {},
   "outputs": [
    {
     "name": "stdout",
     "output_type": "stream",
     "text": [
      "0 - Process ID: 13764 (Parent Process ID: 13545)\n",
      "2 - Process ID: 13768 (Parent Process ID: 13545)\n",
      "1 - Process ID: 13765 (Parent Process ID: 13545)\n",
      "False\n"
     ]
    }
   ],
   "source": [
    "from multiprocessing import Process\n",
    "import os\n",
    "\n",
    "def f(x):\n",
    "    print(\"{0} - Process ID: {1} (Parent Process ID: {2})\".format(x, os.getpid(), os.getppid()))\n",
    "    \n",
    "def main():\n",
    "    for i in range(3):\n",
    "        p = Process(target=f, args=(i, ))\n",
    "        p.start()\n",
    "        \n",
    "    p.join()   \n",
    "    print(p.is_alive())\n",
    "    \n",
    "if __name__ == \"__main__\":\n",
    "    main()"
   ]
  },
  {
   "cell_type": "code",
   "execution_count": 18,
   "metadata": {},
   "outputs": [
    {
     "name": "stdout",
     "output_type": "stream",
     "text": [
      "0 times of Hello.\n",
      "1 times of Hello.\n",
      "False\n"
     ]
    }
   ],
   "source": [
    "from multiprocessing import Queue\n",
    "\n",
    "def sender(q, n):\n",
    "    q.put(\"{0} times of Hello.\".format(n))\n",
    "    \n",
    "def main():\n",
    "    q = Queue()\n",
    "    for i in range(3):\n",
    "        p = Process(target=sender, args=(q, i))\n",
    "        p.start()\n",
    "        \n",
    "    print(q.get())\n",
    "    print(q.get())\n",
    "    \n",
    "    p.join()\n",
    "    print(p.is_alive())\n",
    "    \n",
    "if __name__ == \"__main__\":\n",
    "    main()"
   ]
  },
  {
   "cell_type": "code",
   "execution_count": 17,
   "metadata": {},
   "outputs": [
    {
     "name": "stdout",
     "output_type": "stream",
     "text": [
      "Received Message: Hello world!\n",
      "False\n"
     ]
    }
   ],
   "source": [
    "from multiprocessing import Pipe\n",
    "import os\n",
    "\n",
    "def sender(conn):\n",
    "    conn.send('Hello world!')\n",
    "    conn.close()\n",
    "    \n",
    "    \n",
    "def receiver(conn):\n",
    "    msg = conn.recv()\n",
    "    print(\"Received Message: {0}\".format(msg))\n",
    "    conn.close()\n",
    "    \n",
    "def main():\n",
    "    parent_conn, child_conn = Pipe()\n",
    "    \n",
    "    p = Process(target=sender, args=(child_conn,))\n",
    "    p.start()\n",
    "    \n",
    "    p = Process(target=receiver, args=(parent_conn,))\n",
    "    p.start()\n",
    "    \n",
    "    p.join()\n",
    "    print(p.is_alive())\n",
    "    \n",
    "if __name__ == \"__main__\":\n",
    "    main()"
   ]
  },
  {
   "cell_type": "code",
   "execution_count": 24,
   "metadata": {},
   "outputs": [
    {
     "name": "stdout",
     "output_type": "stream",
     "text": [
      "0 times of Hello.\n",
      "1 times of Hello.\n",
      "2 times of Hello.\n",
      "False\n"
     ]
    }
   ],
   "source": [
    "def f(x):\n",
    "    print(\"{0} times of Hello.\".format(x))\n",
    "    \n",
    "def main():\n",
    "    for i in range(3):\n",
    "        p = Process(target=f, args=(i, ))\n",
    "        p.start()\n",
    "        \n",
    "    p.join()   \n",
    "    print(p.is_alive())\n",
    "    \n",
    "if __name__ == \"__main__\":\n",
    "    main()"
   ]
  },
  {
   "cell_type": "code",
   "execution_count": 25,
   "metadata": {},
   "outputs": [
    {
     "name": "stdout",
     "output_type": "stream",
     "text": [
      "0 times of Hello.\n",
      "1 times of Hello.\n",
      "2 times of Hello.\n",
      "False\n"
     ]
    }
   ],
   "source": [
    "from multiprocessing import Lock\n",
    "\n",
    "def f(lock, x):\n",
    "    lock.acquire()\n",
    "    print(\"{0} times of Hello.\".format(x))\n",
    "    lock.release()\n",
    "    \n",
    "def main():\n",
    "    lock = Lock()\n",
    "    \n",
    "    for i in range(3):\n",
    "        p = Process(target=f, args=(lock, i))\n",
    "        p.start()\n",
    "        \n",
    "    p.join()   \n",
    "    print(p.is_alive())\n",
    "    \n",
    "if __name__ == \"__main__\":\n",
    "    main()"
   ]
  },
  {
   "cell_type": "code",
   "execution_count": 26,
   "metadata": {},
   "outputs": [
    {
     "name": "stdout",
     "output_type": "stream",
     "text": [
      "100\n"
     ]
    }
   ],
   "source": [
    "from multiprocessing import Pool\n",
    "\n",
    "def f(x):\n",
    "    return x*x\n",
    "\n",
    "p = Pool(processes=4)\n",
    "\n",
    "result = p.apply_async(f, [10])\n",
    "print(result.get())"
   ]
  },
  {
   "cell_type": "code",
   "execution_count": 28,
   "metadata": {},
   "outputs": [
    {
     "name": "stdout",
     "output_type": "stream",
     "text": [
      "[1, 4, 9]\n"
     ]
    }
   ],
   "source": [
    "with Pool(5) as p:\n",
    "    print(p.map(f, [1, 2, 3]))"
   ]
  },
  {
   "cell_type": "code",
   "execution_count": null,
   "metadata": {},
   "outputs": [],
   "source": []
  }
 ],
 "metadata": {
  "kernelspec": {
   "display_name": "Python 3",
   "language": "python",
   "name": "python3"
  },
  "language_info": {
   "codemirror_mode": {
    "name": "ipython",
    "version": 3
   },
   "file_extension": ".py",
   "mimetype": "text/x-python",
   "name": "python",
   "nbconvert_exporter": "python",
   "pygments_lexer": "ipython3",
   "version": "3.7.6"
  }
 },
 "nbformat": 4,
 "nbformat_minor": 4
}
