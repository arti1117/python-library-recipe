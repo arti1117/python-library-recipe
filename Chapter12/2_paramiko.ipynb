{
 "cells": [
  {
   "cell_type": "code",
   "execution_count": 19,
   "metadata": {},
   "outputs": [
    {
     "name": "stdout",
     "output_type": "stream",
     "text": [
      "total 4\n",
      "drwxr-xr-x 29 arti arti 4096  8월 30 11:39 arti\n"
     ]
    }
   ],
   "source": [
    "import paramiko\n",
    "\n",
    "ssh = paramiko.SSHClient()\n",
    "ssh.set_missing_host_key_policy(paramiko.AutoAddPolicy())\n",
    "\n",
    "ssh.connect('hostname', 22, 'username', 'password', key_filename='/home/username/.ssh/id_rsa')\n",
    "\n",
    "stdin, stdout, stderr = ssh.exec_command('ls -l /home')\n",
    "\n",
    "for line in stdout:\n",
    "    print(line, end=\"\")\n",
    "    \n",
    "ssh.close()"
   ]
  },
  {
   "cell_type": "code",
   "execution_count": 33,
   "metadata": {},
   "outputs": [],
   "source": [
    "\n",
    "ssh.connect('hostname', 22, 'username', 'password', key_filename='/home/username/.ssh/id_rsa')\n",
    "sftp = ssh.open_sftp()\n",
    "\n",
    "sftp.put('local.txt', 'remote.txt')\n",
    "\n",
    "sftp.chmod('remote.txt', 0o0755)\n",
    "\n",
    "sftp.get('remote.txt', 'local.txt')\n",
    "\n",
    "sftp.close()\n",
    "ssh.close()"
   ]
  },
  {
   "cell_type": "code",
   "execution_count": null,
   "metadata": {},
   "outputs": [],
   "source": []
  }
 ],
 "metadata": {
  "kernelspec": {
   "display_name": "Python 3",
   "language": "python",
   "name": "python3"
  },
  "language_info": {
   "codemirror_mode": {
    "name": "ipython",
    "version": 3
   },
   "file_extension": ".py",
   "mimetype": "text/x-python",
   "name": "python",
   "nbconvert_exporter": "python",
   "pygments_lexer": "ipython3",
   "version": "3.7.6"
  }
 },
 "nbformat": 4,
 "nbformat_minor": 4
}
