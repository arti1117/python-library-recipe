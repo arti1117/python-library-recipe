{
 "cells": [
  {
   "cell_type": "code",
   "execution_count": 1,
   "metadata": {},
   "outputs": [
    {
     "data": {
      "text/plain": [
       "'23eeeb4347bdd26bfc6b7ee9a3b755dd'"
      ]
     },
     "execution_count": 1,
     "metadata": {},
     "output_type": "execute_result"
    }
   ],
   "source": [
    "from Crypto.Hash import MD5, SHA512\n",
    "hash_md5 = MD5.new()\n",
    "hash_md5.update(b'python')\n",
    "hash_md5.hexdigest()"
   ]
  },
  {
   "cell_type": "code",
   "execution_count": 2,
   "metadata": {},
   "outputs": [
    {
     "data": {
      "text/plain": [
       "'ecc579811643b170cbd88fd0d0e323d1e1acc7cef8f73483a70abea01a89afa8015295f617f27447ba05e928e47a0b3a46dc79e72f99d1333856e23eeff97d8b'"
      ]
     },
     "execution_count": 2,
     "metadata": {},
     "output_type": "execute_result"
    }
   ],
   "source": [
    "hash_sha512 = SHA512.new()\n",
    "hash_sha512.update(b'python')\n",
    "hash_sha512.hexdigest()"
   ]
  },
  {
   "cell_type": "code",
   "execution_count": 3,
   "metadata": {},
   "outputs": [
    {
     "data": {
      "text/plain": [
       "'23eeeb4347bdd26bfc6b7ee9a3b755dd'"
      ]
     },
     "execution_count": 3,
     "metadata": {},
     "output_type": "execute_result"
    }
   ],
   "source": [
    "hash_md5 = MD5.new(b'python')\n",
    "hash_md5.hexdigest()"
   ]
  },
  {
   "cell_type": "code",
   "execution_count": 4,
   "metadata": {},
   "outputs": [
    {
     "data": {
      "text/plain": [
       "'8647079b8bdd0cacfbcae1196c305b70'"
      ]
     },
     "execution_count": 4,
     "metadata": {},
     "output_type": "execute_result"
    }
   ],
   "source": [
    "hash_md5.update(b' 3')\n",
    "hash_md5.hexdigest()"
   ]
  },
  {
   "cell_type": "code",
   "execution_count": 5,
   "metadata": {},
   "outputs": [],
   "source": [
    "from Crypto.PublicKey import RSA\n",
    "\n",
    "rsa = RSA.generate(2048)\n",
    "\n",
    "private_pem = rsa.exportKey(format='PEM', passphrase='password')\n",
    "with open('private.pem', 'wb') as f:\n",
    "    f.write(private_pem)\n",
    "    \n",
    "public_pem = rsa.publickey().exportKey()\n",
    "with open('public.pem', 'wb') as f:\n",
    "    f.write(public_pem)"
   ]
  },
  {
   "cell_type": "code",
   "execution_count": 6,
   "metadata": {},
   "outputs": [
    {
     "name": "stdout",
     "output_type": "stream",
     "text": [
      "Original Text:  Jupyter\n",
      "Encrypted Text:  (b\"C\\xed\\xe6\\xcb\\xc2\\xaa\\x90,\\xb5\\xec\\xb4\\xc2\\x1e\\xcc\\xb4\\xda\\x08\\xee\\xf9\\xfeL\\n\\xe4\\x11N\\xb52$\\xad\\x84\\xd2K\\xf2\\xa7\\xed\\xd09`\\x8c\\xb7\\xac\\x81Gj\\x00\\xda\\t\\xc1;Ik\\x0b\\xbd\\x13\\x12\\xe2\\xa3[\\x82\\xd7@9\\xcdk;6Q\\x157\\x1a\\x9b\\x1ap\\xc9X\\x9c\\xfc\\x18j\\\\\\x90\\x93M\\x89\\xa0t6\\xa7\\x1b\\x03n_K|]VIgz\\x0c\\xf7\\x0c\\x16\\x8d\\xbc\\xc7\\xd5\\x01M\\x00\\xe1\\xc1\\xcb\\xb5 A\\x19pO~\\xe3\\xd0\\xe2\\x81\\xaf\\xacmr'to\\xac\\x94\\xdb\\x91\\xbf\\x9a\\xea89(8Tr\\xc1h\\x82\\xb6\\xdaS\\xa1\\x82\\x8f\\xbc\\x9d\\x8b\\x8fv\\xa83\\x17\\x94U B\\x12\\xa5\\xe6xm\\x88>\\x9fN\\xc7\\xf1\\xeaB\\xc6\\xd5\\xbf\\xbdW\\x01\\xce\\t\\x1bH\\xbf2S\\xa6\\xb0\\xc6\\xd3V\\x00\\xea\\xd56\\xd1-\\xa3qMF\\x98\\xe9o\\x0c5\\x1e_\\xae\\xb9\\x86!\\x10\\x97\\xbb\\xf1\\xb2\\xec{\\xc1\\x06\\xed\\xee&\\xf3\\x087\\x89\\xda\\x01t#\\xed6_\\x10\\xacG1\\xf4\\x88p\\xe1q\\xc0\\x06\\xaaU\\xc4\\\\\\xc5\",)\n",
      "Decrypted Text:  Jupyter\n"
     ]
    }
   ],
   "source": [
    "from Crypto import Random\n",
    "\n",
    "public_key_file = open('public.pem', 'r')\n",
    "private_key_file = open('private.pem', 'r')\n",
    "\n",
    "public_key = RSA.importKey(public_key_file.read())\n",
    "private_key = RSA.importKey(private_key_file.read(), passphrase='password')\n",
    "\n",
    "plain_text = 'Jupyter'\n",
    "print('Original Text: ', plain_text)\n",
    "\n",
    "random_func = Random.new().read\n",
    "encrypted = public_key.encrypt(plain_text.encode('utf8'), random_func)\n",
    "print('Encrypted Text: ', encrypted)\n",
    "\n",
    "decrypted = private_key.decrypt(encrypted)\n",
    "print('Decrypted Text: ', decrypted.decode('utf8'))\n",
    "\n",
    "public_key_file.close()\n",
    "private_key_file.close()"
   ]
  },
  {
   "cell_type": "code",
   "execution_count": null,
   "metadata": {},
   "outputs": [],
   "source": []
  }
 ],
 "metadata": {
  "kernelspec": {
   "display_name": "Python 3",
   "language": "python",
   "name": "python3"
  },
  "language_info": {
   "codemirror_mode": {
    "name": "ipython",
    "version": 3
   },
   "file_extension": ".py",
   "mimetype": "text/x-python",
   "name": "python",
   "nbconvert_exporter": "python",
   "pygments_lexer": "ipython3",
   "version": "3.7.6"
  }
 },
 "nbformat": 4,
 "nbformat_minor": 4
}
