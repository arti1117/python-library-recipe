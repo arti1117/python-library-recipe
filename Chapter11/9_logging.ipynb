{
 "cells": [
  {
   "cell_type": "code",
   "execution_count": 14,
   "metadata": {},
   "outputs": [],
   "source": [
    "import logging\n",
    "logging.debug('debug message')"
   ]
  },
  {
   "cell_type": "code",
   "execution_count": 15,
   "metadata": {},
   "outputs": [
    {
     "name": "stderr",
     "output_type": "stream",
     "text": [
      "WARNING:root:warning message\n"
     ]
    }
   ],
   "source": [
    "logging.warning('warning message')"
   ]
  },
  {
   "cell_type": "code",
   "execution_count": 16,
   "metadata": {},
   "outputs": [
    {
     "name": "stderr",
     "output_type": "stream",
     "text": [
      "ERROR:root:I love coding!\n"
     ]
    }
   ],
   "source": [
    "favorite_thing='coding'\n",
    "logging.error('I love %s!', favorite_thing)"
   ]
  },
  {
   "cell_type": "code",
   "execution_count": 29,
   "metadata": {},
   "outputs": [],
   "source": [
    "logformat = '%(asctime)s %(levelname)s %(message)s'\n",
    "logging.basicConfig(filename='test.log', level=logging.DEBUG, format=logformat)\n"
   ]
  },
  {
   "cell_type": "code",
   "execution_count": 20,
   "metadata": {},
   "outputs": [
    {
     "name": "stderr",
     "output_type": "stream",
     "text": [
      "WARNING:root:warning message\n"
     ]
    }
   ],
   "source": [
    "logging.debug('debug message')\n",
    "logging.info('info message')\n",
    "logging.warning('warning message')"
   ]
  },
  {
   "cell_type": "code",
   "execution_count": 21,
   "metadata": {},
   "outputs": [],
   "source": [
    "logger = logging.getLogger('a.b.c')\n",
    "logger.setLevel(logging.INFO)"
   ]
  },
  {
   "cell_type": "code",
   "execution_count": 22,
   "metadata": {},
   "outputs": [],
   "source": [
    "handler = logging.FileHandler('test2.log')\n",
    "handler.setLevel(logging.INFO)"
   ]
  },
  {
   "cell_type": "code",
   "execution_count": 23,
   "metadata": {},
   "outputs": [],
   "source": [
    "filter = logging.Filter('a.b')"
   ]
  },
  {
   "cell_type": "code",
   "execution_count": 24,
   "metadata": {},
   "outputs": [],
   "source": [
    "formatter = logging.Formatter('%(asctime)s-%(name)s-%(levelname)s-%(message)s')"
   ]
  },
  {
   "cell_type": "code",
   "execution_count": 25,
   "metadata": {},
   "outputs": [],
   "source": [
    "handler.setFormatter(formatter)\n",
    "handler.addFilter(filter)\n",
    "logger.addHandler(handler)\n",
    "logger.addFilter(filter)"
   ]
  },
  {
   "cell_type": "code",
   "execution_count": 26,
   "metadata": {},
   "outputs": [
    {
     "name": "stderr",
     "output_type": "stream",
     "text": [
      "INFO:a.b.c:info message\n"
     ]
    }
   ],
   "source": [
    "logger.debug('debug message')\n",
    "logger.info('info message')"
   ]
  },
  {
   "cell_type": "code",
   "execution_count": 31,
   "metadata": {},
   "outputs": [],
   "source": [
    "from logging.config import dictConfig\n",
    "\n",
    "config = {\n",
    "    'version': 1,\n",
    "    'disable_existing_loggers': False,\n",
    "    'formatters': {\n",
    "        'example': {\n",
    "            'format': '%(asctime)s - %(name)s - %(levelname)s - %(message)s',\n",
    "        },\n",
    "    },\n",
    "    'filters': {\n",
    "        'a-filter': {\n",
    "            'name': 'a.b',\n",
    "        }\n",
    "    },\n",
    "    'handlers': {\n",
    "        'file': {\n",
    "            'level': 'INFO',\n",
    "            'class': 'logging.FileHandler',\n",
    "            'filename': 'test3.log',\n",
    "            'formatter': 'example',\n",
    "            'filters': ['a-filter'],\n",
    "        },\n",
    "    },\n",
    "    'loggers': {\n",
    "        'a': {\n",
    "            'handlers': ['file'],\n",
    "            'level': 'INFO',\n",
    "            'propagate': True,\n",
    "        },\n",
    "    },\n",
    "}\n",
    "\n",
    "dictConfig(config)"
   ]
  },
  {
   "cell_type": "code",
   "execution_count": 32,
   "metadata": {},
   "outputs": [
    {
     "name": "stderr",
     "output_type": "stream",
     "text": [
      "INFO:a.b.c:info message\n"
     ]
    }
   ],
   "source": [
    "logger = logging.getLogger('a.b.c')\n",
    "logger.debug('debug message')\n",
    "logger.info('info message')"
   ]
  },
  {
   "cell_type": "code",
   "execution_count": null,
   "metadata": {},
   "outputs": [],
   "source": []
  }
 ],
 "metadata": {
  "kernelspec": {
   "display_name": "Python 3",
   "language": "python",
   "name": "python3"
  },
  "language_info": {
   "codemirror_mode": {
    "name": "ipython",
    "version": 3
   },
   "file_extension": ".py",
   "mimetype": "text/x-python",
   "name": "python",
   "nbconvert_exporter": "python",
   "pygments_lexer": "ipython3",
   "version": "3.7.6"
  }
 },
 "nbformat": 4,
 "nbformat_minor": 4
}
