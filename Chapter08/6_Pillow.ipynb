{
 "cells": [
  {
   "cell_type": "code",
   "execution_count": 3,
   "metadata": {},
   "outputs": [],
   "source": [
    "from PIL import Image\n",
    "\n",
    "img = Image.open('sample.jpg')\n",
    "resized_img = img.resize((200, 200))\n",
    "rotated_img = resized_img.rotate(90)\n",
    "\n",
    "rotated_img.save('processed_sample.jpg', quality=100)"
   ]
  },
  {
   "cell_type": "code",
   "execution_count": 5,
   "metadata": {},
   "outputs": [],
   "source": [
    "resized_img.save('processed_sample.png', format='PNG', compress_level=1)\n",
    "\n",
    "resized_img.save('processed_sample1.png', compress_level=1)\n",
    "resized_img.save('processed_sample.gif')\n",
    "resized_img.save('processed_sample1.bmp')"
   ]
  },
  {
   "cell_type": "code",
   "execution_count": 6,
   "metadata": {},
   "outputs": [],
   "source": [
    "from PIL import ImageDraw, ImageFont\n",
    "\n",
    "img = Image.open('processed_sample.jpg')\n",
    "draw = ImageDraw.Draw(img)\n",
    "\n",
    "# font = ImageFont.truetype()\n",
    "\n",
    "draw.text((63, 7), 'Python!', fill='#000')\n",
    "\n",
    "img.save('drew_text.png')"
   ]
  },
  {
   "cell_type": "code",
   "execution_count": null,
   "metadata": {},
   "outputs": [],
   "source": []
  }
 ],
 "metadata": {
  "kernelspec": {
   "display_name": "Python 3",
   "language": "python",
   "name": "python3"
  },
  "language_info": {
   "codemirror_mode": {
    "name": "ipython",
    "version": 3
   },
   "file_extension": ".py",
   "mimetype": "text/x-python",
   "name": "python",
   "nbconvert_exporter": "python",
   "pygments_lexer": "ipython3",
   "version": "3.7.6"
  }
 },
 "nbformat": 4,
 "nbformat_minor": 4
}
