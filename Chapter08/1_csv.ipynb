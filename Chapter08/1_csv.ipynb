{
 "cells": [
  {
   "cell_type": "code",
   "execution_count": 9,
   "metadata": {},
   "outputs": [],
   "source": [
    "import csv\n",
    "\n",
    "with open('sample.csv', mode='r', encoding='utf-8') as f:\n",
    "    reader = csv.reader(f)\n",
    "    #for row in reader:\n",
    "    #    print(row)\n",
    "    next(reader)\n",
    "    \n",
    "    with open('result.tsv', mode='w', encoding='utf-8') as w:\n",
    "        writer = csv.writer(w, delimiter='\\t')\n",
    "        writer.writerow(['강원도', '인구 밀도(명/km2)'])\n",
    "        \n",
    "        for row in reader:\n",
    "            population_density = float(row[2]) / float(row[3])\n",
    "            writer.writerow([row[1], int(population_density)])"
   ]
  },
  {
   "cell_type": "code",
   "execution_count": 13,
   "metadata": {},
   "outputs": [],
   "source": [
    "with open('sample.csv', mode='r', encoding='utf-8') as f:\n",
    "    reader = csv.DictReader(f)\n",
    "    #for row in csv.DictReader(f):\n",
    "    #   print(row)\n",
    "    next(reader)\n",
    "    \n",
    "    with open('result2.tsv', mode='w', encoding='utf-8') as w:\n",
    "        writer = csv.writer(w, delimiter='\\t')\n",
    "        writer.writerow(['강원도', '인구 밀도(명/km2)'])\n",
    "        \n",
    "        for row in reader:\n",
    "            population_density = float(row['인구(명)']) / float(row['면적(km2)'])\n",
    "            writer.writerow([row['강원도'], int(population_density)])"
   ]
  },
  {
   "cell_type": "code",
   "execution_count": null,
   "metadata": {},
   "outputs": [],
   "source": []
  }
 ],
 "metadata": {
  "kernelspec": {
   "display_name": "Python 3",
   "language": "python",
   "name": "python3"
  },
  "language_info": {
   "codemirror_mode": {
    "name": "ipython",
    "version": 3
   },
   "file_extension": ".py",
   "mimetype": "text/x-python",
   "name": "python",
   "nbconvert_exporter": "python",
   "pygments_lexer": "ipython3",
   "version": "3.7.6"
  }
 },
 "nbformat": 4,
 "nbformat_minor": 4
}
