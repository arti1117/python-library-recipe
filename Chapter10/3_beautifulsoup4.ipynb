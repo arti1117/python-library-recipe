{
 "cells": [
  {
   "cell_type": "code",
   "execution_count": 1,
   "metadata": {},
   "outputs": [
    {
     "data": {
      "text/plain": [
       "<title>Welcome to Python.org</title>"
      ]
     },
     "execution_count": 1,
     "metadata": {},
     "output_type": "execute_result"
    }
   ],
   "source": [
    "from bs4 import BeautifulSoup\n",
    "from urllib import request\n",
    "from lxml import html\n",
    "\n",
    "html = BeautifulSoup(request.urlopen('https://www.python.org'))\n",
    "html.title"
   ]
  },
  {
   "cell_type": "code",
   "execution_count": 2,
   "metadata": {},
   "outputs": [
    {
     "data": {
      "text/plain": [
       "'Welcome to Python.org'"
      ]
     },
     "execution_count": 2,
     "metadata": {},
     "output_type": "execute_result"
    }
   ],
   "source": [
    "html.title.text"
   ]
  },
  {
   "cell_type": "code",
   "execution_count": 3,
   "metadata": {},
   "outputs": [
    {
     "data": {
      "text/plain": [
       "<h1 class=\"site-headline\">\n",
       "<a href=\"/\"><img alt=\"python™\" class=\"python-logo\" src=\"/static/img/python-logo.png\"/></a>\n",
       "</h1>"
      ]
     },
     "execution_count": 3,
     "metadata": {},
     "output_type": "execute_result"
    }
   ],
   "source": [
    "html.h1"
   ]
  },
  {
   "cell_type": "code",
   "execution_count": 4,
   "metadata": {},
   "outputs": [
    {
     "data": {
      "text/plain": [
       "<h1 class=\"site-headline\">\n",
       "<a href=\"/\"><img alt=\"python™\" class=\"python-logo\" src=\"/static/img/python-logo.png\"/></a>\n",
       "</h1>"
      ]
     },
     "execution_count": 4,
     "metadata": {},
     "output_type": "execute_result"
    }
   ],
   "source": [
    "html.find('h1')"
   ]
  },
  {
   "cell_type": "code",
   "execution_count": 5,
   "metadata": {},
   "outputs": [
    {
     "data": {
      "text/plain": [
       "<img alt=\"python™\" class=\"python-logo\" src=\"/static/img/python-logo.png\"/>"
      ]
     },
     "execution_count": 5,
     "metadata": {},
     "output_type": "execute_result"
    }
   ],
   "source": [
    "html.h1.img"
   ]
  },
  {
   "cell_type": "code",
   "execution_count": 6,
   "metadata": {},
   "outputs": [
    {
     "data": {
      "text/plain": [
       "{'class': ['python-logo'],\n",
       " 'src': '/static/img/python-logo.png',\n",
       " 'alt': 'python™'}"
      ]
     },
     "execution_count": 6,
     "metadata": {},
     "output_type": "execute_result"
    }
   ],
   "source": [
    "html.h1.img.attrs"
   ]
  },
  {
   "cell_type": "code",
   "execution_count": 7,
   "metadata": {},
   "outputs": [
    {
     "data": {
      "text/plain": [
       "'/static/img/python-logo.png'"
      ]
     },
     "execution_count": 7,
     "metadata": {},
     "output_type": "execute_result"
    }
   ],
   "source": [
    "html.h1.img['src']"
   ]
  },
  {
   "cell_type": "code",
   "execution_count": 8,
   "metadata": {},
   "outputs": [
    {
     "data": {
      "text/plain": [
       "<a class=\"jump-link\" href=\"#python-network\" id=\"back-to-top-1\"><span aria-hidden=\"true\" class=\"icon-arrow-up\"><span>▲</span></span> Back to Top</a>"
      ]
     },
     "execution_count": 8,
     "metadata": {},
     "output_type": "execute_result"
    }
   ],
   "source": [
    "html.find(id='back-to-top-1')"
   ]
  },
  {
   "cell_type": "code",
   "execution_count": 10,
   "metadata": {},
   "outputs": [
    {
     "data": {
      "text/plain": [
       "<li class=\"shop-meta\">\n",
       "<a href=\"/community-landing/\">Community</a>\n",
       "</li>"
      ]
     },
     "execution_count": 10,
     "metadata": {},
     "output_type": "execute_result"
    }
   ],
   "source": [
    "html.find('li', attrs={'class':'shop-meta'})"
   ]
  },
  {
   "cell_type": "code",
   "execution_count": 11,
   "metadata": {},
   "outputs": [
    {
     "name": "stdout",
     "output_type": "stream",
     "text": [
      "#content\n",
      "#python-network\n",
      "/\n",
      "/psf-landing/\n",
      "https://docs.python.org\n",
      "https://pypi.org/\n",
      "/jobs/\n",
      "/community-landing/\n",
      "#top\n",
      "/\n",
      "https://psfmember.org/civicrm/contribute/transact?reset=1&id=2\n",
      "#site-map\n",
      "#\n",
      "javascript:;\n",
      "javascript:;\n",
      "javascript:;\n",
      "#\n",
      "https://www.facebook.com/pythonlang?fref=ts\n",
      "https://twitter.com/ThePSF\n",
      "/community/irc/\n",
      "/about/\n",
      "/about/apps/\n",
      "/about/quotes/\n",
      "/about/gettingstarted/\n",
      "/about/help/\n",
      "http://brochure.getpython.info/\n",
      "/downloads/\n",
      "/downloads/\n",
      "/downloads/source/\n",
      "/downloads/windows/\n",
      "/downloads/mac-osx/\n",
      "/download/other/\n",
      "https://docs.python.org/3/license.html\n",
      "/download/alternatives\n",
      "/doc/\n",
      "/doc/\n",
      "/doc/av\n",
      "https://wiki.python.org/moin/BeginnersGuide\n",
      "https://devguide.python.org/\n",
      "https://docs.python.org/faq/\n",
      "http://wiki.python.org/moin/Languages\n",
      "http://python.org/dev/peps/\n",
      "https://wiki.python.org/moin/PythonBooks\n",
      "/doc/essays/\n",
      "/community/\n",
      "/community/survey\n",
      "/community/diversity/\n",
      "/community/lists/\n",
      "/community/irc/\n",
      "/community/forums/\n",
      "/psf/annual-report/2020/\n",
      "/community/workshops/\n",
      "/community/sigs/\n",
      "/community/logos/\n",
      "https://wiki.python.org/moin/\n",
      "/community/merchandise/\n",
      "/community/awards\n",
      "/psf/conduct/\n",
      "/success-stories/\n",
      "/success-stories/category/arts/\n",
      "/success-stories/category/business/\n",
      "/success-stories/category/education/\n",
      "/success-stories/category/engineering/\n",
      "/success-stories/category/government/\n",
      "/success-stories/category/scientific/\n",
      "/success-stories/category/software-development/\n",
      "/blogs/\n",
      "/blogs/\n",
      "/psf/newsletter/\n",
      "http://planetpython.org/\n",
      "http://pyfound.blogspot.com/\n",
      "http://pycon.blogspot.com/\n",
      "/events/\n",
      "/events/python-events\n",
      "/events/python-user-group/\n",
      "/events/python-events/past/\n",
      "/events/python-user-group/past/\n",
      "https://wiki.python.org/moin/PythonEventsCalendar#Submitting_an_Event\n",
      "/shell/\n",
      "//docs.python.org/3/tutorial/controlflow.html#defining-functions\n",
      "//docs.python.org/3/tutorial/introduction.html#lists\n",
      "http://docs.python.org/3/tutorial/introduction.html#using-python-as-a-calculator\n",
      "//docs.python.org/3/tutorial/\n",
      "//docs.python.org/3/tutorial/controlflow.html\n",
      "/doc/\n",
      "/about/gettingstarted/\n",
      "/downloads/release/python-385/\n",
      "https://docs.python.org\n",
      "//jobs.python.org\n",
      "https://blog.python.org\n",
      "http://feedproxy.google.com/~r/PythonInsider/~3/W5AUa26PlDY/python-3510rc1-is-now-available.html\n",
      "http://feedproxy.google.com/~r/PythonInsider/~3/yowZpdqeW1I/python-379-and-3612-security-updates.html\n",
      "http://feedproxy.google.com/~r/PythonInsider/~3/VKrYX2pRrD4/python-390rc1-is-now-available.html\n",
      "http://feedproxy.google.com/~r/PythonInsider/~3/oWRGYtccsHE/upgrade-pip-20-2-changes-20-3.html\n",
      "http://feedproxy.google.com/~r/PythonSoftwareFoundationNews/~3/6FahUJasdEc/abigail-dogbe-awarded-psf-community.html\n",
      "/events/calendars/\n",
      "/events/python-events/963/\n",
      "/events/python-events/879/\n",
      "/events/python-events/891/\n",
      "/events/python-events/952/\n",
      "/events/python-events/910/\n",
      "/success-stories/\n",
      "/success-stories/python-provides-convenience-and-flexibility-for-scalable-mlai/\n",
      "/success-stories/python-provides-convenience-and-flexibility-for-scalable-mlai/\n",
      "/about/apps\n",
      "http://www.djangoproject.com/\n",
      "http://www.pylonsproject.org/\n",
      "http://bottlepy.org\n",
      "http://tornadoweb.org\n",
      "http://flask.pocoo.org/\n",
      "http://www.web2py.com/\n",
      "http://wiki.python.org/moin/TkInter\n",
      "https://wiki.gnome.org/Projects/PyGObject\n",
      "http://www.riverbankcomputing.co.uk/software/pyqt/intro\n",
      "https://wiki.qt.io/PySide\n",
      "https://kivy.org/\n",
      "http://www.wxpython.org/\n",
      "http://www.scipy.org\n",
      "http://pandas.pydata.org/\n",
      "http://ipython.org\n",
      "http://buildbot.net/\n",
      "http://trac.edgewall.org/\n",
      "http://roundup.sourceforge.net/\n",
      "http://www.ansible.com\n",
      "http://www.saltstack.com\n",
      "https://www.openstack.org\n",
      "/dev/peps/\n",
      "/dev/peps/peps.rss\n",
      "/psf/\n",
      "/psf/\n",
      "/users/membership/\n",
      "/psf/donations/\n",
      "#python-network\n",
      "/about/\n",
      "/about/apps/\n",
      "/about/quotes/\n",
      "/about/gettingstarted/\n",
      "/about/help/\n",
      "http://brochure.getpython.info/\n",
      "/downloads/\n",
      "/downloads/\n",
      "/downloads/source/\n",
      "/downloads/windows/\n",
      "/downloads/mac-osx/\n",
      "/download/other/\n",
      "https://docs.python.org/3/license.html\n",
      "/download/alternatives\n",
      "/doc/\n",
      "/doc/\n",
      "/doc/av\n",
      "https://wiki.python.org/moin/BeginnersGuide\n",
      "https://devguide.python.org/\n",
      "https://docs.python.org/faq/\n",
      "http://wiki.python.org/moin/Languages\n",
      "http://python.org/dev/peps/\n",
      "https://wiki.python.org/moin/PythonBooks\n",
      "/doc/essays/\n",
      "/community/\n",
      "/community/survey\n",
      "/community/diversity/\n",
      "/community/lists/\n",
      "/community/irc/\n",
      "/community/forums/\n",
      "/psf/annual-report/2020/\n",
      "/community/workshops/\n",
      "/community/sigs/\n",
      "/community/logos/\n",
      "https://wiki.python.org/moin/\n",
      "/community/merchandise/\n",
      "/community/awards\n",
      "/psf/conduct/\n",
      "/success-stories/\n",
      "/success-stories/category/arts/\n",
      "/success-stories/category/business/\n",
      "/success-stories/category/education/\n",
      "/success-stories/category/engineering/\n",
      "/success-stories/category/government/\n",
      "/success-stories/category/scientific/\n",
      "/success-stories/category/software-development/\n",
      "/blogs/\n",
      "/blogs/\n",
      "/psf/newsletter/\n",
      "http://planetpython.org/\n",
      "http://pyfound.blogspot.com/\n",
      "http://pycon.blogspot.com/\n",
      "/events/\n",
      "/events/python-events\n",
      "/events/python-user-group/\n",
      "/events/python-events/past/\n",
      "/events/python-user-group/past/\n",
      "https://wiki.python.org/moin/PythonEventsCalendar#Submitting_an_Event\n",
      "/dev/\n",
      "https://devguide.python.org/\n",
      "https://bugs.python.org/\n",
      "https://mail.python.org/mailman/listinfo/python-dev\n",
      "/dev/core-mentorship/\n",
      "/dev/security/\n",
      "#python-network\n",
      "/about/help/\n",
      "/community/diversity/\n",
      "https://github.com/python/pythondotorg/issues\n",
      "https://status.python.org/\n",
      "/psf-landing/\n",
      "/about/legal/\n",
      "/privacy/\n",
      "/psf/sponsorship/sponsors/#heroku\n"
     ]
    }
   ],
   "source": [
    "import re\n",
    "\n",
    "url_list = html.find_all('a')\n",
    "for url in url_list:\n",
    "    print(url['href'])"
   ]
  },
  {
   "cell_type": "code",
   "execution_count": 12,
   "metadata": {},
   "outputs": [],
   "source": [
    "docs_list = html.find_all(href=re.compile('^http(s)?://docs'), limit=2)"
   ]
  },
  {
   "cell_type": "code",
   "execution_count": 13,
   "metadata": {},
   "outputs": [
    {
     "name": "stdout",
     "output_type": "stream",
     "text": [
      "https://docs.python.org\n",
      "https://docs.python.org/3/license.html\n"
     ]
    }
   ],
   "source": [
    "for doc in docs_list:\n",
    "    print(doc['href'])"
   ]
  },
  {
   "cell_type": "code",
   "execution_count": 14,
   "metadata": {},
   "outputs": [
    {
     "data": {
      "text/plain": [
       "<div class=\"do-not-print\" id=\"nojs\">\n",
       "<p><strong>Notice:</strong> While Javascript is not essential for this website, your interaction with the content will be limited. Please turn Javascript on for the full experience. </p>\n",
       "</div>"
      ]
     },
     "execution_count": 14,
     "metadata": {},
     "output_type": "execute_result"
    }
   ],
   "source": [
    "tag = html.find('div', attrs={'id':'nojs'})\n",
    "tag"
   ]
  },
  {
   "cell_type": "code",
   "execution_count": 15,
   "metadata": {},
   "outputs": [
    {
     "name": "stdout",
     "output_type": "stream",
     "text": [
      "Notice:While Javascript is not essential for this website, your interaction with the content will be limited. Please turn Javascript on for the full experience.\n"
     ]
    }
   ],
   "source": [
    "print(tag.get_text(strip=True))"
   ]
  },
  {
   "cell_type": "code",
   "execution_count": 16,
   "metadata": {},
   "outputs": [
    {
     "name": "stdout",
     "output_type": "stream",
     "text": [
      "\n",
      "-- Notice:--  While Javascript is not essential for this website, your interaction with the content will be limited. Please turn Javascript on for the full experience. -- \n",
      "\n"
     ]
    }
   ],
   "source": [
    "print(tag.get_text(separator='-- '))"
   ]
  },
  {
   "cell_type": "code",
   "execution_count": 17,
   "metadata": {},
   "outputs": [
    {
     "name": "stdout",
     "output_type": "stream",
     "text": [
      "<h1 class=\"site-headline\">\n",
      "<a href=\"/\"><img alt=\"python™\" class=\"python-logo\" src=\"/static/img/python-logo.png\"/></a>\n",
      "</h1>\n"
     ]
    }
   ],
   "source": [
    "print(html.h1)"
   ]
  },
  {
   "cell_type": "code",
   "execution_count": 18,
   "metadata": {},
   "outputs": [
    {
     "name": "stdout",
     "output_type": "stream",
     "text": [
      "<h1 class=\"site-headline\">\n",
      " <a href=\"/\">\n",
      "  <img alt=\"python™\" class=\"python-logo\" src=\"/static/img/python-logo.png\"/>\n",
      " </a>\n",
      "</h1>\n",
      "\n"
     ]
    }
   ],
   "source": [
    "print(html.h1.prettify())"
   ]
  },
  {
   "cell_type": "code",
   "execution_count": 19,
   "metadata": {},
   "outputs": [
    {
     "data": {
      "text/plain": [
       "<h1 class=\"site-headline\">\n",
       "<a href=\"/\"><img alt=\"python™\" class=\"python-logo\" src=\"/static/img/python-logo.png\"/></a>\n",
       "</h1>"
      ]
     },
     "execution_count": 19,
     "metadata": {},
     "output_type": "execute_result"
    }
   ],
   "source": [
    "html.h1"
   ]
  },
  {
   "cell_type": "code",
   "execution_count": 20,
   "metadata": {},
   "outputs": [],
   "source": [
    "html.h1.insert(0, 'ham')"
   ]
  },
  {
   "cell_type": "code",
   "execution_count": 21,
   "metadata": {},
   "outputs": [
    {
     "data": {
      "text/plain": [
       "<h1 class=\"site-headline\">ham\n",
       "<a href=\"/\"><img alt=\"python™\" class=\"python-logo\" src=\"/static/img/python-logo.png\"/></a>\n",
       "</h1>"
      ]
     },
     "execution_count": 21,
     "metadata": {},
     "output_type": "execute_result"
    }
   ],
   "source": [
    "html.h1"
   ]
  },
  {
   "cell_type": "code",
   "execution_count": 22,
   "metadata": {},
   "outputs": [
    {
     "data": {
      "text/plain": [
       "<h1 class=\"site-headline\">ham\n",
       "<a href=\"/\"><img alt=\"python™\" class=\"python-logo\" src=\"/static/img/python-logo.png\"/></a>egg\n",
       "</h1>"
      ]
     },
     "execution_count": 22,
     "metadata": {},
     "output_type": "execute_result"
    }
   ],
   "source": [
    "html.h1.insert(3,'egg')\n",
    "html.h1"
   ]
  },
  {
   "cell_type": "code",
   "execution_count": 23,
   "metadata": {},
   "outputs": [
    {
     "data": {
      "text/plain": [
       "<img alt=\"python™\" class=\"python-logo\" src=\"/static/img/python-logo.png\"/>"
      ]
     },
     "execution_count": 23,
     "metadata": {},
     "output_type": "execute_result"
    }
   ],
   "source": [
    "new_tag = html.new_tag('span')\n",
    "new_tag.string = 'ham egg'\n",
    "html.h1.img.replace_with(new_tag)"
   ]
  },
  {
   "cell_type": "code",
   "execution_count": 24,
   "metadata": {},
   "outputs": [
    {
     "data": {
      "text/plain": [
       "<h1 class=\"site-headline\">ham\n",
       "<a href=\"/\"><span>ham egg</span></a>egg\n",
       "</h1>"
      ]
     },
     "execution_count": 24,
     "metadata": {},
     "output_type": "execute_result"
    }
   ],
   "source": [
    "html.h1"
   ]
  },
  {
   "cell_type": "code",
   "execution_count": 25,
   "metadata": {},
   "outputs": [
    {
     "data": {
      "text/plain": [
       "<h1 class=\"site-headline\">ham\n",
       "<a href=\"/\"><span></span></a>egg\n",
       "</h1>"
      ]
     },
     "execution_count": 25,
     "metadata": {},
     "output_type": "execute_result"
    }
   ],
   "source": [
    "html.h1.span.clear()\n",
    "html.h1"
   ]
  },
  {
   "cell_type": "code",
   "execution_count": 26,
   "metadata": {},
   "outputs": [
    {
     "data": {
      "text/plain": [
       "<h1 class=\"site-headline\">ham\n",
       "<a href=\"/\"></a>egg\n",
       "</h1>"
      ]
     },
     "execution_count": 26,
     "metadata": {},
     "output_type": "execute_result"
    }
   ],
   "source": [
    "html.h1.span.decompose()\n",
    "html.h1"
   ]
  },
  {
   "cell_type": "code",
   "execution_count": 27,
   "metadata": {},
   "outputs": [
    {
     "data": {
      "text/plain": [
       "<a href=\"/\"></a>"
      ]
     },
     "execution_count": 27,
     "metadata": {},
     "output_type": "execute_result"
    }
   ],
   "source": [
    "html.h1.a.extract()"
   ]
  },
  {
   "cell_type": "code",
   "execution_count": 28,
   "metadata": {},
   "outputs": [
    {
     "data": {
      "text/plain": [
       "<h1 class=\"site-headline\">ham\n",
       "egg\n",
       "</h1>"
      ]
     },
     "execution_count": 28,
     "metadata": {},
     "output_type": "execute_result"
    }
   ],
   "source": [
    "html.h1"
   ]
  },
  {
   "cell_type": "code",
   "execution_count": 29,
   "metadata": {},
   "outputs": [
    {
     "data": {
      "text/plain": [
       "<div class=\"wrapper\"><h1 class=\"site-headline\">ham\n",
       "egg\n",
       "</h1></div>"
      ]
     },
     "execution_count": 29,
     "metadata": {},
     "output_type": "execute_result"
    }
   ],
   "source": [
    "wrapper_tag = html.new_tag('div')\n",
    "wrapper_tag.attrs['class'] = 'wrapper'\n",
    "html.h1.wrap(wrapper_tag)"
   ]
  },
  {
   "cell_type": "code",
   "execution_count": 30,
   "metadata": {},
   "outputs": [
    {
     "data": {
      "text/plain": [
       "<h1 class=\"site-headline\">ham\n",
       "egg\n",
       "</h1>"
      ]
     },
     "execution_count": 30,
     "metadata": {},
     "output_type": "execute_result"
    }
   ],
   "source": [
    "html.h1"
   ]
  },
  {
   "cell_type": "code",
   "execution_count": null,
   "metadata": {},
   "outputs": [],
   "source": []
  }
 ],
 "metadata": {
  "kernelspec": {
   "display_name": "Python 3",
   "language": "python",
   "name": "python3"
  },
  "language_info": {
   "codemirror_mode": {
    "name": "ipython",
    "version": 3
   },
   "file_extension": ".py",
   "mimetype": "text/x-python",
   "name": "python",
   "nbconvert_exporter": "python",
   "pygments_lexer": "ipython3",
   "version": "3.7.6"
  }
 },
 "nbformat": 4,
 "nbformat_minor": 4
}
