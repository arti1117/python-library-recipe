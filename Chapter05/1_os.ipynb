{
 "cells": [
  {
   "cell_type": "code",
   "execution_count": 1,
   "metadata": {},
   "outputs": [
    {
     "data": {
      "text/plain": [
       "'/home/arti'"
      ]
     },
     "execution_count": 1,
     "metadata": {},
     "output_type": "execute_result"
    }
   ],
   "source": [
    "import os\n",
    "\n",
    "os.environ['HOME']"
   ]
  },
  {
   "cell_type": "code",
   "execution_count": 4,
   "metadata": {},
   "outputs": [
    {
     "data": {
      "text/plain": [
       "'/home/arti'"
      ]
     },
     "execution_count": 4,
     "metadata": {},
     "output_type": "execute_result"
    }
   ],
   "source": [
    "os.getenv('HOME')"
   ]
  },
  {
   "cell_type": "code",
   "execution_count": 5,
   "metadata": {},
   "outputs": [
    {
     "data": {
      "text/plain": [
       "1000"
      ]
     },
     "execution_count": 5,
     "metadata": {},
     "output_type": "execute_result"
    }
   ],
   "source": [
    "os.getuid()"
   ]
  },
  {
   "cell_type": "code",
   "execution_count": 6,
   "metadata": {},
   "outputs": [
    {
     "data": {
      "text/plain": [
       "3700"
      ]
     },
     "execution_count": 6,
     "metadata": {},
     "output_type": "execute_result"
    }
   ],
   "source": [
    "os.getpid()"
   ]
  },
  {
   "cell_type": "code",
   "execution_count": 7,
   "metadata": {},
   "outputs": [
    {
     "data": {
      "text/plain": [
       "1000"
      ]
     },
     "execution_count": 7,
     "metadata": {},
     "output_type": "execute_result"
    }
   ],
   "source": [
    "os.getgid()"
   ]
  },
  {
   "cell_type": "code",
   "execution_count": 9,
   "metadata": {},
   "outputs": [
    {
     "data": {
      "text/plain": [
       "'/home/arti/repo/python-library-recipe/Chapter05'"
      ]
     },
     "execution_count": 9,
     "metadata": {},
     "output_type": "execute_result"
    }
   ],
   "source": [
    "os.getcwd()"
   ]
  },
  {
   "cell_type": "code",
   "execution_count": 10,
   "metadata": {},
   "outputs": [
    {
     "data": {
      "text/plain": [
       "['.ipynb_checkpoints', '1_os.ipynb']"
      ]
     },
     "execution_count": 10,
     "metadata": {},
     "output_type": "execute_result"
    }
   ],
   "source": [
    "os.listdir(path='.')"
   ]
  },
  {
   "cell_type": "code",
   "execution_count": 11,
   "metadata": {},
   "outputs": [],
   "source": [
    "os.chdir('/tmp')"
   ]
  },
  {
   "cell_type": "code",
   "execution_count": 12,
   "metadata": {},
   "outputs": [],
   "source": [
    "os.chdir('/home/arti/repo')"
   ]
  },
  {
   "cell_type": "code",
   "execution_count": 13,
   "metadata": {},
   "outputs": [],
   "source": [
    "os.mkdir('test')"
   ]
  },
  {
   "cell_type": "code",
   "execution_count": 14,
   "metadata": {},
   "outputs": [
    {
     "ename": "FileNotFoundError",
     "evalue": "[Errno 2] No such file or directory: 'test'",
     "output_type": "error",
     "traceback": [
      "\u001b[0;31m---------------------------------------------------------------------------\u001b[0m",
      "\u001b[0;31mFileNotFoundError\u001b[0m                         Traceback (most recent call last)",
      "\u001b[0;32m<ipython-input-14-c4255042d84c>\u001b[0m in \u001b[0;36m<module>\u001b[0;34m\u001b[0m\n\u001b[0;32m----> 1\u001b[0;31m \u001b[0mos\u001b[0m\u001b[0;34m.\u001b[0m\u001b[0mrmdir\u001b[0m\u001b[0;34m(\u001b[0m\u001b[0;34m'test'\u001b[0m\u001b[0;34m)\u001b[0m\u001b[0;34m\u001b[0m\u001b[0;34m\u001b[0m\u001b[0m\n\u001b[0m",
      "\u001b[0;31mFileNotFoundError\u001b[0m: [Errno 2] No such file or directory: 'test'"
     ]
    }
   ],
   "source": [
    "os.rmdir('test')"
   ]
  },
  {
   "cell_type": "code",
   "execution_count": 15,
   "metadata": {},
   "outputs": [
    {
     "ename": "FileNotFoundError",
     "evalue": "[Errno 2] No such file or directory: 'test'",
     "output_type": "error",
     "traceback": [
      "\u001b[0;31m---------------------------------------------------------------------------\u001b[0m",
      "\u001b[0;31mFileNotFoundError\u001b[0m                         Traceback (most recent call last)",
      "\u001b[0;32m<ipython-input-15-b26558e86426>\u001b[0m in \u001b[0;36m<module>\u001b[0;34m\u001b[0m\n\u001b[0;32m----> 1\u001b[0;31m \u001b[0mos\u001b[0m\u001b[0;34m.\u001b[0m\u001b[0mremovedirs\u001b[0m\u001b[0;34m(\u001b[0m\u001b[0;34m'test'\u001b[0m\u001b[0;34m)\u001b[0m\u001b[0;34m\u001b[0m\u001b[0;34m\u001b[0m\u001b[0m\n\u001b[0m",
      "\u001b[0;32m~/anaconda3/lib/python3.7/os.py\u001b[0m in \u001b[0;36mremovedirs\u001b[0;34m(name)\u001b[0m\n\u001b[1;32m    237\u001b[0m \u001b[0;34m\u001b[0m\u001b[0m\n\u001b[1;32m    238\u001b[0m     \"\"\"\n\u001b[0;32m--> 239\u001b[0;31m     \u001b[0mrmdir\u001b[0m\u001b[0;34m(\u001b[0m\u001b[0mname\u001b[0m\u001b[0;34m)\u001b[0m\u001b[0;34m\u001b[0m\u001b[0;34m\u001b[0m\u001b[0m\n\u001b[0m\u001b[1;32m    240\u001b[0m     \u001b[0mhead\u001b[0m\u001b[0;34m,\u001b[0m \u001b[0mtail\u001b[0m \u001b[0;34m=\u001b[0m \u001b[0mpath\u001b[0m\u001b[0;34m.\u001b[0m\u001b[0msplit\u001b[0m\u001b[0;34m(\u001b[0m\u001b[0mname\u001b[0m\u001b[0;34m)\u001b[0m\u001b[0;34m\u001b[0m\u001b[0;34m\u001b[0m\u001b[0m\n\u001b[1;32m    241\u001b[0m     \u001b[0;32mif\u001b[0m \u001b[0;32mnot\u001b[0m \u001b[0mtail\u001b[0m\u001b[0;34m:\u001b[0m\u001b[0;34m\u001b[0m\u001b[0;34m\u001b[0m\u001b[0m\n",
      "\u001b[0;31mFileNotFoundError\u001b[0m: [Errno 2] No such file or directory: 'test'"
     ]
    }
   ],
   "source": [
    "os.removedirs('test')"
   ]
  },
  {
   "cell_type": "code",
   "execution_count": 16,
   "metadata": {},
   "outputs": [
    {
     "ename": "TypeError",
     "evalue": "getpriority() missing required argument 'which' (pos 1)",
     "output_type": "error",
     "traceback": [
      "\u001b[0;31m---------------------------------------------------------------------------\u001b[0m",
      "\u001b[0;31mTypeError\u001b[0m                                 Traceback (most recent call last)",
      "\u001b[0;32m<ipython-input-16-67014cdb7ce1>\u001b[0m in \u001b[0;36m<module>\u001b[0;34m\u001b[0m\n\u001b[0;32m----> 1\u001b[0;31m \u001b[0mos\u001b[0m\u001b[0;34m.\u001b[0m\u001b[0mgetpriority\u001b[0m\u001b[0;34m(\u001b[0m\u001b[0;34m)\u001b[0m\u001b[0;34m\u001b[0m\u001b[0;34m\u001b[0m\u001b[0m\n\u001b[0m",
      "\u001b[0;31mTypeError\u001b[0m: getpriority() missing required argument 'which' (pos 1)"
     ]
    }
   ],
   "source": [
    "os.getpriority()"
   ]
  },
  {
   "cell_type": "code",
   "execution_count": 17,
   "metadata": {},
   "outputs": [
    {
     "data": {
      "text/plain": [
       "environ{'CLUTTER_IM_MODULE': 'xim',\n",
       "        'CONDA_SHLVL': '1',\n",
       "        'LS_COLORS': 'rs=0:di=01;34:ln=01;36:mh=00:pi=40;33:so=01;35:do=01;35:bd=40;33;01:cd=40;33;01:or=40;31;01:mi=00:su=37;41:sg=30;43:ca=30;41:tw=30;42:ow=34;42:st=37;44:ex=01;32:*.tar=01;31:*.tgz=01;31:*.arc=01;31:*.arj=01;31:*.taz=01;31:*.lha=01;31:*.lz4=01;31:*.lzh=01;31:*.lzma=01;31:*.tlz=01;31:*.txz=01;31:*.tzo=01;31:*.t7z=01;31:*.zip=01;31:*.z=01;31:*.Z=01;31:*.dz=01;31:*.gz=01;31:*.lrz=01;31:*.lz=01;31:*.lzo=01;31:*.xz=01;31:*.zst=01;31:*.tzst=01;31:*.bz2=01;31:*.bz=01;31:*.tbz=01;31:*.tbz2=01;31:*.tz=01;31:*.deb=01;31:*.rpm=01;31:*.jar=01;31:*.war=01;31:*.ear=01;31:*.sar=01;31:*.rar=01;31:*.alz=01;31:*.ace=01;31:*.zoo=01;31:*.cpio=01;31:*.7z=01;31:*.rz=01;31:*.cab=01;31:*.wim=01;31:*.swm=01;31:*.dwm=01;31:*.esd=01;31:*.jpg=01;35:*.jpeg=01;35:*.mjpg=01;35:*.mjpeg=01;35:*.gif=01;35:*.bmp=01;35:*.pbm=01;35:*.pgm=01;35:*.ppm=01;35:*.tga=01;35:*.xbm=01;35:*.xpm=01;35:*.tif=01;35:*.tiff=01;35:*.png=01;35:*.svg=01;35:*.svgz=01;35:*.mng=01;35:*.pcx=01;35:*.mov=01;35:*.mpg=01;35:*.mpeg=01;35:*.m2v=01;35:*.mkv=01;35:*.webm=01;35:*.ogm=01;35:*.mp4=01;35:*.m4v=01;35:*.mp4v=01;35:*.vob=01;35:*.qt=01;35:*.nuv=01;35:*.wmv=01;35:*.asf=01;35:*.rm=01;35:*.rmvb=01;35:*.flc=01;35:*.avi=01;35:*.fli=01;35:*.flv=01;35:*.gl=01;35:*.dl=01;35:*.xcf=01;35:*.xwd=01;35:*.yuv=01;35:*.cgm=01;35:*.emf=01;35:*.ogv=01;35:*.ogx=01;35:*.aac=00;36:*.au=00;36:*.flac=00;36:*.m4a=00;36:*.mid=00;36:*.midi=00;36:*.mka=00;36:*.mp3=00;36:*.mpc=00;36:*.ogg=00;36:*.ra=00;36:*.wav=00;36:*.oga=00;36:*.opus=00;36:*.spx=00;36:*.xspf=00;36:',\n",
       "        'CONDA_EXE': '/home/arti/anaconda3/bin/conda',\n",
       "        'LC_MEASUREMENT': 'ko_KR.UTF-8',\n",
       "        'LESSCLOSE': '/usr/bin/lesspipe %s %s',\n",
       "        'LC_PAPER': 'ko_KR.UTF-8',\n",
       "        'LC_MONETARY': 'ko_KR.UTF-8',\n",
       "        'XDG_MENU_PREFIX': 'gnome-',\n",
       "        'LANG': 'en_US.UTF-8',\n",
       "        'MANAGERPID': '2451',\n",
       "        'DISPLAY': ':0',\n",
       "        'INVOCATION_ID': '4c28e208244e4b6e81f861c663cd5bb8',\n",
       "        'GNOME_SHELL_SESSION_MODE': 'ubuntu',\n",
       "        'COLORTERM': 'truecolor',\n",
       "        'USERNAME': 'arti',\n",
       "        'CONDA_PREFIX': '/home/arti/anaconda3',\n",
       "        'XDG_VTNR': '2',\n",
       "        'SSH_AUTH_SOCK': '/run/user/1000/keyring/ssh',\n",
       "        '_CE_M': '',\n",
       "        'LC_NAME': 'ko_KR.UTF-8',\n",
       "        'PROJ_LIB': '/home/arti/anaconda3/share/proj',\n",
       "        'XDG_SESSION_ID': '2',\n",
       "        'USER': 'arti',\n",
       "        'DESKTOP_SESSION': 'ubuntu',\n",
       "        'QT4_IM_MODULE': 'xim',\n",
       "        'TEXTDOMAINDIR': '/usr/share/locale/',\n",
       "        'GNOME_TERMINAL_SCREEN': '/org/gnome/Terminal/screen/f8885c0b_9c87_4638_a1ed_9835ba32fdcb',\n",
       "        'PWD': '/home/arti/repo/python-library-recipe',\n",
       "        'HOME': '/home/arti',\n",
       "        'CONDA_PYTHON_EXE': '/home/arti/anaconda3/bin/python',\n",
       "        'JOURNAL_STREAM': '9:41643',\n",
       "        'TEXTDOMAIN': 'im-config',\n",
       "        'SSH_AGENT_PID': '2587',\n",
       "        'QT_ACCESSIBILITY': '1',\n",
       "        'XDG_SESSION_TYPE': 'x11',\n",
       "        'XDG_DATA_DIRS': '/usr/share/ubuntu:/usr/local/share/:/usr/share/:/var/lib/snapd/desktop',\n",
       "        '_CE_CONDA': '',\n",
       "        'XDG_SESSION_DESKTOP': 'ubuntu',\n",
       "        'LC_ADDRESS': 'ko_KR.UTF-8',\n",
       "        'DBUS_STARTER_ADDRESS': 'unix:path=/run/user/1000/bus,guid=5b6546a374b1fb12992391f45f442c1f',\n",
       "        'LC_NUMERIC': 'ko_KR.UTF-8',\n",
       "        'CONDA_PROMPT_MODIFIER': '(base) ',\n",
       "        'GTK_MODULES': 'gail:atk-bridge',\n",
       "        'WINDOWPATH': '2',\n",
       "        'TERM': 'xterm-color',\n",
       "        'VTE_VERSION': '5202',\n",
       "        'SHELL': '/bin/bash',\n",
       "        'QT_IM_MODULE': 'ibus',\n",
       "        'XMODIFIERS': '@im=ibus',\n",
       "        'IM_CONFIG_PHASE': '2',\n",
       "        'DBUS_STARTER_BUS_TYPE': 'session',\n",
       "        'XDG_CURRENT_DESKTOP': 'ubuntu:GNOME',\n",
       "        'GPG_AGENT_INFO': '/run/user/1000/gnupg/S.gpg-agent:0:1',\n",
       "        'GNOME_TERMINAL_SERVICE': ':1.73',\n",
       "        'SHLVL': '1',\n",
       "        'XDG_SEAT': 'seat0',\n",
       "        'LC_TELEPHONE': 'ko_KR.UTF-8',\n",
       "        'GDMSESSION': 'ubuntu',\n",
       "        'GNOME_DESKTOP_SESSION_ID': 'this-is-deprecated',\n",
       "        'LOGNAME': 'arti',\n",
       "        'DBUS_SESSION_BUS_ADDRESS': 'unix:path=/run/user/1000/bus,guid=5b6546a374b1fb12992391f45f442c1f',\n",
       "        'XDG_RUNTIME_DIR': '/run/user/1000',\n",
       "        'XAUTHORITY': '/run/user/1000/gdm/Xauthority',\n",
       "        'XDG_CONFIG_DIRS': '/etc/xdg/xdg-ubuntu:/etc/xdg',\n",
       "        'PATH': '/home/arti/anaconda3/bin:/home/arti/anaconda3/condabin:/home/arti/.local/bin:/usr/local/sbin:/usr/local/bin:/usr/sbin:/usr/bin:/sbin:/bin:/usr/games:/usr/local/games:/snap/bin',\n",
       "        'LC_IDENTIFICATION': 'ko_KR.UTF-8',\n",
       "        'CONDA_DEFAULT_ENV': 'base',\n",
       "        'SESSION_MANAGER': 'local/tars:@/tmp/.ICE-unix/2501,unix/tars:/tmp/.ICE-unix/2501',\n",
       "        'LESSOPEN': '| /usr/bin/lesspipe %s',\n",
       "        'GTK_IM_MODULE': 'ibus',\n",
       "        'LC_TIME': 'ko_KR.UTF-8',\n",
       "        '_': '/home/arti/anaconda3/bin/jupyter',\n",
       "        'KERNEL_LAUNCH_TIMEOUT': '40',\n",
       "        'JPY_PARENT_PID': '3313',\n",
       "        'CLICOLOR': '1',\n",
       "        'PAGER': 'cat',\n",
       "        'GIT_PAGER': 'cat',\n",
       "        'MPLBACKEND': 'module://ipykernel.pylab.backend_inline'}"
      ]
     },
     "execution_count": 17,
     "metadata": {},
     "output_type": "execute_result"
    }
   ],
   "source": [
    "os.environ"
   ]
  },
  {
   "cell_type": "code",
   "execution_count": 19,
   "metadata": {},
   "outputs": [
    {
     "data": {
      "text/plain": [
       "{'CS_GNU_LIBC_VERSION': 2,\n",
       " 'CS_GNU_LIBPTHREAD_VERSION': 3,\n",
       " 'CS_LFS64_CFLAGS': 1004,\n",
       " 'CS_LFS64_LDFLAGS': 1005,\n",
       " 'CS_LFS64_LIBS': 1006,\n",
       " 'CS_LFS64_LINTFLAGS': 1007,\n",
       " 'CS_LFS_CFLAGS': 1000,\n",
       " 'CS_LFS_LDFLAGS': 1001,\n",
       " 'CS_LFS_LIBS': 1002,\n",
       " 'CS_LFS_LINTFLAGS': 1003,\n",
       " 'CS_PATH': 0,\n",
       " 'CS_XBS5_ILP32_OFF32_CFLAGS': 1100,\n",
       " 'CS_XBS5_ILP32_OFF32_LDFLAGS': 1101,\n",
       " 'CS_XBS5_ILP32_OFF32_LIBS': 1102,\n",
       " 'CS_XBS5_ILP32_OFF32_LINTFLAGS': 1103,\n",
       " 'CS_XBS5_ILP32_OFFBIG_CFLAGS': 1104,\n",
       " 'CS_XBS5_ILP32_OFFBIG_LDFLAGS': 1105,\n",
       " 'CS_XBS5_ILP32_OFFBIG_LIBS': 1106,\n",
       " 'CS_XBS5_ILP32_OFFBIG_LINTFLAGS': 1107,\n",
       " 'CS_XBS5_LP64_OFF64_CFLAGS': 1108,\n",
       " 'CS_XBS5_LP64_OFF64_LDFLAGS': 1109,\n",
       " 'CS_XBS5_LP64_OFF64_LIBS': 1110,\n",
       " 'CS_XBS5_LP64_OFF64_LINTFLAGS': 1111,\n",
       " 'CS_XBS5_LPBIG_OFFBIG_CFLAGS': 1112,\n",
       " 'CS_XBS5_LPBIG_OFFBIG_LDFLAGS': 1113,\n",
       " 'CS_XBS5_LPBIG_OFFBIG_LIBS': 1114,\n",
       " 'CS_XBS5_LPBIG_OFFBIG_LINTFLAGS': 1115}"
      ]
     },
     "execution_count": 19,
     "metadata": {},
     "output_type": "execute_result"
    }
   ],
   "source": [
    "os.confstr_names"
   ]
  },
  {
   "cell_type": "code",
   "execution_count": 20,
   "metadata": {},
   "outputs": [
    {
     "data": {
      "text/plain": [
       "'/bin:/usr/bin'"
      ]
     },
     "execution_count": 20,
     "metadata": {},
     "output_type": "execute_result"
    }
   ],
   "source": [
    "os.confstr('CS_PATH')"
   ]
  },
  {
   "cell_type": "code",
   "execution_count": 21,
   "metadata": {},
   "outputs": [
    {
     "data": {
      "text/plain": [
       "'/bin:/usr/bin'"
      ]
     },
     "execution_count": 21,
     "metadata": {},
     "output_type": "execute_result"
    }
   ],
   "source": [
    "os.confstr(0)"
   ]
  },
  {
   "cell_type": "code",
   "execution_count": 22,
   "metadata": {},
   "outputs": [
    {
     "data": {
      "text/plain": [
       "{'SC_2_CHAR_TERM': 95,\n",
       " 'SC_2_C_BIND': 47,\n",
       " 'SC_2_C_DEV': 48,\n",
       " 'SC_2_C_VERSION': 96,\n",
       " 'SC_2_FORT_DEV': 49,\n",
       " 'SC_2_FORT_RUN': 50,\n",
       " 'SC_2_LOCALEDEF': 52,\n",
       " 'SC_2_SW_DEV': 51,\n",
       " 'SC_2_UPE': 97,\n",
       " 'SC_2_VERSION': 46,\n",
       " 'SC_AIO_LISTIO_MAX': 23,\n",
       " 'SC_AIO_MAX': 24,\n",
       " 'SC_AIO_PRIO_DELTA_MAX': 25,\n",
       " 'SC_ARG_MAX': 0,\n",
       " 'SC_ASYNCHRONOUS_IO': 12,\n",
       " 'SC_ATEXIT_MAX': 87,\n",
       " 'SC_AVPHYS_PAGES': 86,\n",
       " 'SC_BC_BASE_MAX': 36,\n",
       " 'SC_BC_DIM_MAX': 37,\n",
       " 'SC_BC_SCALE_MAX': 38,\n",
       " 'SC_BC_STRING_MAX': 39,\n",
       " 'SC_CHARCLASS_NAME_MAX': 45,\n",
       " 'SC_CHAR_BIT': 101,\n",
       " 'SC_CHAR_MAX': 102,\n",
       " 'SC_CHAR_MIN': 103,\n",
       " 'SC_CHILD_MAX': 1,\n",
       " 'SC_CLK_TCK': 2,\n",
       " 'SC_COLL_WEIGHTS_MAX': 40,\n",
       " 'SC_DELAYTIMER_MAX': 26,\n",
       " 'SC_EQUIV_CLASS_MAX': 41,\n",
       " 'SC_EXPR_NEST_MAX': 42,\n",
       " 'SC_FSYNC': 15,\n",
       " 'SC_GETGR_R_SIZE_MAX': 69,\n",
       " 'SC_GETPW_R_SIZE_MAX': 70,\n",
       " 'SC_INT_MAX': 104,\n",
       " 'SC_INT_MIN': 105,\n",
       " 'SC_IOV_MAX': 60,\n",
       " 'SC_JOB_CONTROL': 7,\n",
       " 'SC_LINE_MAX': 43,\n",
       " 'SC_LOGIN_NAME_MAX': 71,\n",
       " 'SC_LONG_BIT': 106,\n",
       " 'SC_MAPPED_FILES': 16,\n",
       " 'SC_MB_LEN_MAX': 108,\n",
       " 'SC_MEMLOCK': 17,\n",
       " 'SC_MEMLOCK_RANGE': 18,\n",
       " 'SC_MEMORY_PROTECTION': 19,\n",
       " 'SC_MESSAGE_PASSING': 20,\n",
       " 'SC_MQ_OPEN_MAX': 27,\n",
       " 'SC_MQ_PRIO_MAX': 28,\n",
       " 'SC_NGROUPS_MAX': 3,\n",
       " 'SC_NL_ARGMAX': 119,\n",
       " 'SC_NL_LANGMAX': 120,\n",
       " 'SC_NL_MSGMAX': 121,\n",
       " 'SC_NL_NMAX': 122,\n",
       " 'SC_NL_SETMAX': 123,\n",
       " 'SC_NL_TEXTMAX': 124,\n",
       " 'SC_NPROCESSORS_CONF': 83,\n",
       " 'SC_NPROCESSORS_ONLN': 84,\n",
       " 'SC_NZERO': 109,\n",
       " 'SC_OPEN_MAX': 4,\n",
       " 'SC_PAGESIZE': 30,\n",
       " 'SC_PAGE_SIZE': 30,\n",
       " 'SC_PASS_MAX': 88,\n",
       " 'SC_PHYS_PAGES': 85,\n",
       " 'SC_PII': 53,\n",
       " 'SC_PII_INTERNET': 56,\n",
       " 'SC_PII_INTERNET_DGRAM': 62,\n",
       " 'SC_PII_INTERNET_STREAM': 61,\n",
       " 'SC_PII_OSI': 57,\n",
       " 'SC_PII_OSI_CLTS': 64,\n",
       " 'SC_PII_OSI_COTS': 63,\n",
       " 'SC_PII_OSI_M': 65,\n",
       " 'SC_PII_SOCKET': 55,\n",
       " 'SC_PII_XTI': 54,\n",
       " 'SC_POLL': 58,\n",
       " 'SC_PRIORITIZED_IO': 13,\n",
       " 'SC_PRIORITY_SCHEDULING': 10,\n",
       " 'SC_REALTIME_SIGNALS': 9,\n",
       " 'SC_RE_DUP_MAX': 44,\n",
       " 'SC_RTSIG_MAX': 31,\n",
       " 'SC_SAVED_IDS': 8,\n",
       " 'SC_SCHAR_MAX': 111,\n",
       " 'SC_SCHAR_MIN': 112,\n",
       " 'SC_SELECT': 59,\n",
       " 'SC_SEMAPHORES': 21,\n",
       " 'SC_SEM_NSEMS_MAX': 32,\n",
       " 'SC_SEM_VALUE_MAX': 33,\n",
       " 'SC_SHARED_MEMORY_OBJECTS': 22,\n",
       " 'SC_SHRT_MAX': 113,\n",
       " 'SC_SHRT_MIN': 114,\n",
       " 'SC_SIGQUEUE_MAX': 34,\n",
       " 'SC_SSIZE_MAX': 110,\n",
       " 'SC_STREAM_MAX': 5,\n",
       " 'SC_SYNCHRONIZED_IO': 14,\n",
       " 'SC_THREADS': 67,\n",
       " 'SC_THREAD_ATTR_STACKADDR': 77,\n",
       " 'SC_THREAD_ATTR_STACKSIZE': 78,\n",
       " 'SC_THREAD_DESTRUCTOR_ITERATIONS': 73,\n",
       " 'SC_THREAD_KEYS_MAX': 74,\n",
       " 'SC_THREAD_PRIORITY_SCHEDULING': 79,\n",
       " 'SC_THREAD_PRIO_INHERIT': 80,\n",
       " 'SC_THREAD_PRIO_PROTECT': 81,\n",
       " 'SC_THREAD_PROCESS_SHARED': 82,\n",
       " 'SC_THREAD_SAFE_FUNCTIONS': 68,\n",
       " 'SC_THREAD_STACK_MIN': 75,\n",
       " 'SC_THREAD_THREADS_MAX': 76,\n",
       " 'SC_TIMERS': 11,\n",
       " 'SC_TIMER_MAX': 35,\n",
       " 'SC_TTY_NAME_MAX': 72,\n",
       " 'SC_TZNAME_MAX': 6,\n",
       " 'SC_T_IOV_MAX': 66,\n",
       " 'SC_UCHAR_MAX': 115,\n",
       " 'SC_UINT_MAX': 116,\n",
       " 'SC_UIO_MAXIOV': 60,\n",
       " 'SC_ULONG_MAX': 117,\n",
       " 'SC_USHRT_MAX': 118,\n",
       " 'SC_VERSION': 29,\n",
       " 'SC_WORD_BIT': 107,\n",
       " 'SC_XBS5_ILP32_OFF32': 125,\n",
       " 'SC_XBS5_ILP32_OFFBIG': 126,\n",
       " 'SC_XBS5_LP64_OFF64': 127,\n",
       " 'SC_XBS5_LPBIG_OFFBIG': 128,\n",
       " 'SC_XOPEN_CRYPT': 92,\n",
       " 'SC_XOPEN_ENH_I18N': 93,\n",
       " 'SC_XOPEN_LEGACY': 129,\n",
       " 'SC_XOPEN_REALTIME': 130,\n",
       " 'SC_XOPEN_REALTIME_THREADS': 131,\n",
       " 'SC_XOPEN_SHM': 94,\n",
       " 'SC_XOPEN_UNIX': 91,\n",
       " 'SC_XOPEN_VERSION': 89,\n",
       " 'SC_XOPEN_XCU_VERSION': 90,\n",
       " 'SC_XOPEN_XPG2': 98,\n",
       " 'SC_XOPEN_XPG3': 99,\n",
       " 'SC_XOPEN_XPG4': 100}"
      ]
     },
     "execution_count": 22,
     "metadata": {},
     "output_type": "execute_result"
    }
   ],
   "source": [
    "os.sysconf_names"
   ]
  },
  {
   "cell_type": "code",
   "execution_count": 23,
   "metadata": {},
   "outputs": [
    {
     "data": {
      "text/plain": [
       "200809"
      ]
     },
     "execution_count": 23,
     "metadata": {},
     "output_type": "execute_result"
    }
   ],
   "source": [
    "os.sysconf(11)"
   ]
  },
  {
   "cell_type": "code",
   "execution_count": 24,
   "metadata": {},
   "outputs": [
    {
     "data": {
      "text/plain": [
       "200809"
      ]
     },
     "execution_count": 24,
     "metadata": {},
     "output_type": "execute_result"
    }
   ],
   "source": [
    "os.sysconf('SC_TIMERS')"
   ]
  },
  {
   "cell_type": "code",
   "execution_count": 25,
   "metadata": {},
   "outputs": [
    {
     "data": {
      "text/plain": [
       "8"
      ]
     },
     "execution_count": 25,
     "metadata": {},
     "output_type": "execute_result"
    }
   ],
   "source": [
    "os.cpu_count()"
   ]
  },
  {
   "cell_type": "code",
   "execution_count": 26,
   "metadata": {},
   "outputs": [
    {
     "data": {
      "text/plain": [
       "(0.27, 0.31, 0.23)"
      ]
     },
     "execution_count": 26,
     "metadata": {},
     "output_type": "execute_result"
    }
   ],
   "source": [
    "os.getloadavg()"
   ]
  },
  {
   "cell_type": "code",
   "execution_count": 27,
   "metadata": {},
   "outputs": [
    {
     "data": {
      "text/plain": [
       "'.'"
      ]
     },
     "execution_count": 27,
     "metadata": {},
     "output_type": "execute_result"
    }
   ],
   "source": [
    "os.curdir"
   ]
  },
  {
   "cell_type": "code",
   "execution_count": 28,
   "metadata": {},
   "outputs": [
    {
     "data": {
      "text/plain": [
       "'..'"
      ]
     },
     "execution_count": 28,
     "metadata": {},
     "output_type": "execute_result"
    }
   ],
   "source": [
    "os.pardir"
   ]
  },
  {
   "cell_type": "code",
   "execution_count": 29,
   "metadata": {},
   "outputs": [
    {
     "data": {
      "text/plain": [
       "'/'"
      ]
     },
     "execution_count": 29,
     "metadata": {},
     "output_type": "execute_result"
    }
   ],
   "source": [
    "os.sep"
   ]
  },
  {
   "cell_type": "code",
   "execution_count": 30,
   "metadata": {},
   "outputs": [
    {
     "data": {
      "text/plain": [
       "'.'"
      ]
     },
     "execution_count": 30,
     "metadata": {},
     "output_type": "execute_result"
    }
   ],
   "source": [
    "os.extsep"
   ]
  },
  {
   "cell_type": "code",
   "execution_count": 31,
   "metadata": {},
   "outputs": [
    {
     "data": {
      "text/plain": [
       "'\\n'"
      ]
     },
     "execution_count": 31,
     "metadata": {},
     "output_type": "execute_result"
    }
   ],
   "source": [
    "os.linesep"
   ]
  },
  {
   "cell_type": "code",
   "execution_count": 32,
   "metadata": {},
   "outputs": [
    {
     "data": {
      "text/plain": [
       "b'7(qq\\x97m\\x8c\\xa3\\xcd\\n'"
      ]
     },
     "execution_count": 32,
     "metadata": {},
     "output_type": "execute_result"
    }
   ],
   "source": [
    "os.urandom(10)"
   ]
  },
  {
   "cell_type": "code",
   "execution_count": null,
   "metadata": {},
   "outputs": [],
   "source": []
  }
 ],
 "metadata": {
  "kernelspec": {
   "display_name": "Python 3",
   "language": "python",
   "name": "python3"
  },
  "language_info": {
   "codemirror_mode": {
    "name": "ipython",
    "version": 3
   },
   "file_extension": ".py",
   "mimetype": "text/x-python",
   "name": "python",
   "nbconvert_exporter": "python",
   "pygments_lexer": "ipython3",
   "version": "3.7.6"
  }
 },
 "nbformat": 4,
 "nbformat_minor": 4
}
