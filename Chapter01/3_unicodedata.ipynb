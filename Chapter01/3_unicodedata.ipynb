{
 "cells": [
  {
   "cell_type": "code",
   "execution_count": 1,
   "metadata": {},
   "outputs": [
    {
     "data": {
      "text/plain": [
       "'a'"
      ]
     },
     "execution_count": 1,
     "metadata": {},
     "output_type": "execute_result"
    }
   ],
   "source": [
    "import unicodedata as uni\n",
    "uni.lookup('LATIN SMALL LETTER A')"
   ]
  },
  {
   "cell_type": "code",
   "execution_count": 2,
   "metadata": {},
   "outputs": [
    {
     "data": {
      "text/plain": [
       "'☃'"
      ]
     },
     "execution_count": 2,
     "metadata": {},
     "output_type": "execute_result"
    }
   ],
   "source": [
    "uni.lookup('SNOWMAN')"
   ]
  },
  {
   "cell_type": "code",
   "execution_count": 6,
   "metadata": {},
   "outputs": [
    {
     "name": "stdout",
     "output_type": "stream",
     "text": [
      "LATIN CAPITAL LETTER A\n",
      "LATIN CAPITAL LETTER A\n",
      "DIGIT ONE\n",
      "DIGIT ONE\n",
      "HANGUL LETTER KIYEOK\n",
      "HANGUL SYLLABLE GA\n",
      "HANGUL LETTER SSANGKIYEOK\n",
      "HANGUL LETTER RIEUL-HIEUH\n"
     ]
    }
   ],
   "source": [
    "for chr in ('A', 'A', '1', '1', 'ㄱ', '가', 'ㄲ', 'ㅀ'):\n",
    "    print(uni.name(chr))"
   ]
  },
  {
   "cell_type": "code",
   "execution_count": 9,
   "metadata": {},
   "outputs": [
    {
     "data": {
      "text/plain": [
       "'한글AＡ!！@＠'"
      ]
     },
     "execution_count": 9,
     "metadata": {},
     "output_type": "execute_result"
    }
   ],
   "source": [
    "uni.normalize('NFC', '한글AＡ!！@＠')"
   ]
  },
  {
   "cell_type": "code",
   "execution_count": 10,
   "metadata": {},
   "outputs": [
    {
     "data": {
      "text/plain": [
       "'한글AA!!@@'"
      ]
     },
     "execution_count": 10,
     "metadata": {},
     "output_type": "execute_result"
    }
   ],
   "source": [
    "uni.normalize('NFKC','한글AＡ!！@＠')"
   ]
  },
  {
   "cell_type": "code",
   "execution_count": 17,
   "metadata": {},
   "outputs": [
    {
     "data": {
      "text/plain": [
       "('찦차를 타고 온 펲시맨과 쑛다리 똠방각하', '찦차를 타고 온 펲시맨과 쑛다리 똠방각하')"
      ]
     },
     "execution_count": 17,
     "metadata": {},
     "output_type": "execute_result"
    }
   ],
   "source": [
    "uni.normalize('NFC', '찦차를 타고 온 펲시맨과 쑛다리 똠방각하'), uni.normalize('NFD', '찦차를 타고 온 펲시맨과 쑛다리 똠방각하')"
   ]
  },
  {
   "cell_type": "code",
   "execution_count": null,
   "metadata": {},
   "outputs": [],
   "source": []
  }
 ],
 "metadata": {
  "kernelspec": {
   "display_name": "Python 3",
   "language": "python",
   "name": "python3"
  },
  "language_info": {
   "codemirror_mode": {
    "name": "ipython",
    "version": 3
   },
   "file_extension": ".py",
   "mimetype": "text/x-python",
   "name": "python",
   "nbconvert_exporter": "python",
   "pygments_lexer": "ipython3",
   "version": "3.7.6"
  }
 },
 "nbformat": 4,
 "nbformat_minor": 4
}
