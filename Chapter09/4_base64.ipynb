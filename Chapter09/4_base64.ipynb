{
 "cells": [
  {
   "cell_type": "code",
   "execution_count": 1,
   "metadata": {},
   "outputs": [
    {
     "ename": "TypeError",
     "evalue": "a bytes-like object is required, not 'str'",
     "output_type": "error",
     "traceback": [
      "\u001b[0;31m---------------------------------------------------------------------------\u001b[0m",
      "\u001b[0;31mTypeError\u001b[0m                                 Traceback (most recent call last)",
      "\u001b[0;32m<ipython-input-1-96cd3cc9cf3c>\u001b[0m in \u001b[0;36m<module>\u001b[0;34m\u001b[0m\n\u001b[1;32m      3\u001b[0m \u001b[0ms\u001b[0m \u001b[0;34m=\u001b[0m \u001b[0;34m'Python은 간단히 습득할 수 있으며 이와 동시에 강력한 언어 중의 하나입니다.'\u001b[0m\u001b[0;34m\u001b[0m\u001b[0;34m\u001b[0m\u001b[0m\n\u001b[1;32m      4\u001b[0m \u001b[0;34m\u001b[0m\u001b[0m\n\u001b[0;32m----> 5\u001b[0;31m \u001b[0mbase64\u001b[0m\u001b[0;34m.\u001b[0m\u001b[0mb64encode\u001b[0m\u001b[0;34m(\u001b[0m\u001b[0ms\u001b[0m\u001b[0;34m)\u001b[0m\u001b[0;34m\u001b[0m\u001b[0;34m\u001b[0m\u001b[0m\n\u001b[0m",
      "\u001b[0;32m~/anaconda3/lib/python3.7/base64.py\u001b[0m in \u001b[0;36mb64encode\u001b[0;34m(s, altchars)\u001b[0m\n\u001b[1;32m     56\u001b[0m     \u001b[0mapplication\u001b[0m \u001b[0mto\u001b[0m \u001b[0me\u001b[0m\u001b[0;34m.\u001b[0m\u001b[0mg\u001b[0m\u001b[0;34m.\u001b[0m \u001b[0mgenerate\u001b[0m \u001b[0murl\u001b[0m \u001b[0;32mor\u001b[0m \u001b[0mfilesystem\u001b[0m \u001b[0msafe\u001b[0m \u001b[0mBase64\u001b[0m \u001b[0mstrings\u001b[0m\u001b[0;34m.\u001b[0m\u001b[0;34m\u001b[0m\u001b[0;34m\u001b[0m\u001b[0m\n\u001b[1;32m     57\u001b[0m     \"\"\"\n\u001b[0;32m---> 58\u001b[0;31m     \u001b[0mencoded\u001b[0m \u001b[0;34m=\u001b[0m \u001b[0mbinascii\u001b[0m\u001b[0;34m.\u001b[0m\u001b[0mb2a_base64\u001b[0m\u001b[0;34m(\u001b[0m\u001b[0ms\u001b[0m\u001b[0;34m,\u001b[0m \u001b[0mnewline\u001b[0m\u001b[0;34m=\u001b[0m\u001b[0;32mFalse\u001b[0m\u001b[0;34m)\u001b[0m\u001b[0;34m\u001b[0m\u001b[0;34m\u001b[0m\u001b[0m\n\u001b[0m\u001b[1;32m     59\u001b[0m     \u001b[0;32mif\u001b[0m \u001b[0maltchars\u001b[0m \u001b[0;32mis\u001b[0m \u001b[0;32mnot\u001b[0m \u001b[0;32mNone\u001b[0m\u001b[0;34m:\u001b[0m\u001b[0;34m\u001b[0m\u001b[0;34m\u001b[0m\u001b[0m\n\u001b[1;32m     60\u001b[0m         \u001b[0;32massert\u001b[0m \u001b[0mlen\u001b[0m\u001b[0;34m(\u001b[0m\u001b[0maltchars\u001b[0m\u001b[0;34m)\u001b[0m \u001b[0;34m==\u001b[0m \u001b[0;36m2\u001b[0m\u001b[0;34m,\u001b[0m \u001b[0mrepr\u001b[0m\u001b[0;34m(\u001b[0m\u001b[0maltchars\u001b[0m\u001b[0;34m)\u001b[0m\u001b[0;34m\u001b[0m\u001b[0;34m\u001b[0m\u001b[0m\n",
      "\u001b[0;31mTypeError\u001b[0m: a bytes-like object is required, not 'str'"
     ]
    }
   ],
   "source": [
    "import base64\n",
    "\n",
    "s = 'Python은 간단히 습득할 수 있으며 이와 동시에 강력한 언어 중의 하나입니다.'\n",
    "\n",
    "base64.b64encode(s)"
   ]
  },
  {
   "cell_type": "code",
   "execution_count": 2,
   "metadata": {},
   "outputs": [
    {
     "data": {
      "text/plain": [
       "b'Python\\xec\\x9d\\x80 \\xea\\xb0\\x84\\xeb\\x8b\\xa8\\xed\\x9e\\x88 \\xec\\x8a\\xb5\\xeb\\x93\\x9d\\xed\\x95\\xa0 \\xec\\x88\\x98 \\xec\\x9e\\x88\\xec\\x9c\\xbc\\xeb\\xa9\\xb0 \\xec\\x9d\\xb4\\xec\\x99\\x80 \\xeb\\x8f\\x99\\xec\\x8b\\x9c\\xec\\x97\\x90 \\xea\\xb0\\x95\\xeb\\xa0\\xa5\\xed\\x95\\x9c \\xec\\x96\\xb8\\xec\\x96\\xb4 \\xec\\xa4\\x91\\xec\\x9d\\x98 \\xed\\x95\\x98\\xeb\\x82\\x98\\xec\\x9e\\x85\\xeb\\x8b\\x88\\xeb\\x8b\\xa4.'"
      ]
     },
     "execution_count": 2,
     "metadata": {},
     "output_type": "execute_result"
    }
   ],
   "source": [
    "s.encode()"
   ]
  },
  {
   "cell_type": "code",
   "execution_count": 3,
   "metadata": {},
   "outputs": [
    {
     "data": {
      "text/plain": [
       "b'UHl0aG9u7J2AIOqwhOuLqO2eiCDsirXrk53tlaAg7IiYIOyeiOycvOupsCDsnbTsmYAg64+Z7Iuc7JeQIOqwleugpe2VnCDslrjslrQg7KSR7J2YIO2VmOuCmOyeheuLiOuLpC4='"
      ]
     },
     "execution_count": 3,
     "metadata": {},
     "output_type": "execute_result"
    }
   ],
   "source": [
    "base64.b64encode(s.encode())"
   ]
  },
  {
   "cell_type": "code",
   "execution_count": 4,
   "metadata": {},
   "outputs": [
    {
     "data": {
      "text/plain": [
       "b'UHl0aG9u7J2AIOqwhOuLqO2eiCDsirXrk53tlaAg7IiYIOyeiOycvOupsCDsnbTsmYAg64@Z7Iuc7JeQIOqwleugpe2VnCDslrjslrQg7KSR7J2YIO2VmOuCmOyeheuLiOuLpC4='"
      ]
     },
     "execution_count": 4,
     "metadata": {},
     "output_type": "execute_result"
    }
   ],
   "source": [
    "base64.b64encode(s.encode(), altchars=b'@*')"
   ]
  },
  {
   "cell_type": "code",
   "execution_count": 7,
   "metadata": {},
   "outputs": [
    {
     "data": {
      "text/plain": [
       "b'Python\\xec\\x9d\\x80 \\xea\\xb0\\x84\\xeb\\x8b\\xa8\\xed\\x9e\\x88 \\xec\\x8a\\xb5\\xeb\\x93\\x9d\\xed\\x95\\xa0 \\xec\\x88\\x98 \\xec\\x9e\\x88\\xec\\x9c\\xbc\\xeb\\xa9\\xb0 \\xec\\x9d\\xb4\\xec\\x99\\x80 \\xeb\\x8f\\x99\\xec\\x8b\\x9c\\xec\\x97\\x90 \\xea\\xb0\\x95\\xeb\\xa0\\xa5\\xed\\x95\\x9c \\xec\\x96\\xb8\\xec\\x96\\xb4 \\xec\\xa4\\x91\\xec\\x9d\\x98 \\xed\\x95\\x98\\xeb\\x82\\x98\\xec\\x9e\\x85\\xeb\\x8b\\x88\\xeb\\x8b\\xa4.'"
      ]
     },
     "execution_count": 7,
     "metadata": {},
     "output_type": "execute_result"
    }
   ],
   "source": [
    "b = b'UHl0aG9u7J2AIOqwhOuLqO2eiCDsirXrk53tlaAg7IiYIOyeiOycvOupsCDsnbTsmYAg64+Z7Iuc7JeQIOqwleugpe2VnCDslrjslrQg7KSR7J2YIO2VmOuCmOyeheuLiOuLpC4='\n",
    "\n",
    "base64.b64decode(b)"
   ]
  },
  {
   "cell_type": "code",
   "execution_count": 8,
   "metadata": {},
   "outputs": [
    {
     "data": {
      "text/plain": [
       "'Python은 간단히 습득할 수 있으며 이와 동시에 강력한 언어 중의 하나입니다.'"
      ]
     },
     "execution_count": 8,
     "metadata": {},
     "output_type": "execute_result"
    }
   ],
   "source": [
    "base64.b64decode(b).decode()"
   ]
  },
  {
   "cell_type": "code",
   "execution_count": null,
   "metadata": {},
   "outputs": [],
   "source": []
  }
 ],
 "metadata": {
  "kernelspec": {
   "display_name": "Python 3",
   "language": "python",
   "name": "python3"
  },
  "language_info": {
   "codemirror_mode": {
    "name": "ipython",
    "version": 3
   },
   "file_extension": ".py",
   "mimetype": "text/x-python",
   "name": "python",
   "nbconvert_exporter": "python",
   "pygments_lexer": "ipython3",
   "version": "3.7.6"
  }
 },
 "nbformat": 4,
 "nbformat_minor": 4
}
