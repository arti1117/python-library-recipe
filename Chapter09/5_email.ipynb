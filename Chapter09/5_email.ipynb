{
 "cells": [
  {
   "cell_type": "code",
   "execution_count": 5,
   "metadata": {},
   "outputs": [
    {
     "name": "stdout",
     "output_type": "stream",
     "text": [
      "<class 'email.message.Message'>\n",
      "[('From', 'arti1117@naver.com'), ('Subject', 'HOTFIX')]\n",
      "[]\n"
     ]
    }
   ],
   "source": [
    "import email\n",
    "import email.parser\n",
    "\n",
    "parser = email.parser.Parser()\n",
    "with open('email.txt') as f:\n",
    "    m = parser.parse(f)\n",
    "    print(type(m))\n",
    "    print(m.items())"
   ]
  },
  {
   "cell_type": "code",
   "execution_count": 6,
   "metadata": {},
   "outputs": [
    {
     "name": "stdout",
     "output_type": "stream",
     "text": [
      "[('From', 'arti1117@naver.com'), ('Subject', 'HOTFIX')]\n"
     ]
    }
   ],
   "source": [
    "with open('email.txt') as f:\n",
    "    s = f.read()\n",
    "    m = email.message_from_string(s)\n",
    "    print(m.items())"
   ]
  },
  {
   "cell_type": "code",
   "execution_count": 7,
   "metadata": {},
   "outputs": [
    {
     "data": {
      "text/plain": [
       "email.message.Message"
      ]
     },
     "execution_count": 7,
     "metadata": {},
     "output_type": "execute_result"
    }
   ],
   "source": [
    "f = open('email.txt')\n",
    "msg = email.message_from_file(f)\n",
    "type(msg)"
   ]
  },
  {
   "cell_type": "code",
   "execution_count": 8,
   "metadata": {},
   "outputs": [
    {
     "data": {
      "text/plain": [
       "False"
      ]
     },
     "execution_count": 8,
     "metadata": {},
     "output_type": "execute_result"
    }
   ],
   "source": [
    "msg.is_multipart()"
   ]
  },
  {
   "cell_type": "code",
   "execution_count": 11,
   "metadata": {},
   "outputs": [
    {
     "data": {
      "text/plain": [
       "'This is real.\\n'"
      ]
     },
     "execution_count": 11,
     "metadata": {},
     "output_type": "execute_result"
    }
   ],
   "source": [
    "msg.get_payload()"
   ]
  },
  {
   "cell_type": "code",
   "execution_count": 12,
   "metadata": {},
   "outputs": [
    {
     "data": {
      "text/plain": [
       "['From', 'Subject']"
      ]
     },
     "execution_count": 12,
     "metadata": {},
     "output_type": "execute_result"
    }
   ],
   "source": [
    "msg.keys()"
   ]
  },
  {
   "cell_type": "code",
   "execution_count": 13,
   "metadata": {},
   "outputs": [
    {
     "data": {
      "text/plain": [
       "'arti1117@naver.com'"
      ]
     },
     "execution_count": 13,
     "metadata": {},
     "output_type": "execute_result"
    }
   ],
   "source": [
    "msg.get('From')"
   ]
  },
  {
   "cell_type": "code",
   "execution_count": 14,
   "metadata": {},
   "outputs": [
    {
     "data": {
      "text/plain": [
       "'From: arti1117@naver.com\\nSubject: HOTFIX\\n\\nThis is real.\\n'"
      ]
     },
     "execution_count": 14,
     "metadata": {},
     "output_type": "execute_result"
    }
   ],
   "source": [
    "msg.as_string()"
   ]
  },
  {
   "cell_type": "code",
   "execution_count": 17,
   "metadata": {},
   "outputs": [
    {
     "data": {
      "text/plain": [
       "True"
      ]
     },
     "execution_count": 17,
     "metadata": {},
     "output_type": "execute_result"
    }
   ],
   "source": [
    "from email.mime.image import MIMEImage\n",
    "from email.mime.multipart import MIMEMultipart\n",
    "from email.mime.text import MIMEText\n",
    "from email.mime.application import MIMEApplication\n",
    "from email.mime.audio import MIMEAudio\n",
    "\n",
    "message = MIMEMultipart()\n",
    "\n",
    "with open('sample.html', 'r') as f:\n",
    "    text = MIMEText(f.read(), _subtype='html')\n",
    "message.attach(text)\n",
    "\n",
    "with open('sample.jpg', 'rb') as f:\n",
    "    image = MIMEImage(f.read(), _subtype='jpg')\n",
    "message.attach(image)\n",
    "\n",
    "with open('sample.pdf', 'rb') as f:\n",
    "    app = MIMEApplication(f.read(), _subtype='pdf')\n",
    "message.attach(app)\n",
    "\n",
    "with open('sample.mp3', 'rb') as f:\n",
    "    mp3 = MIMEAudio(f.read(), _subtype='mp3')\n",
    "message.attach(mp3)\n",
    "    \n",
    "message.is_multipart()\n",
    "    \n"
   ]
  },
  {
   "cell_type": "code",
   "execution_count": 18,
   "metadata": {},
   "outputs": [
    {
     "name": "stdout",
     "output_type": "stream",
     "text": [
      "<class 'email.mime.text.MIMEText'>\n",
      "text/html\n",
      "<class 'email.mime.image.MIMEImage'>\n",
      "image/jpg\n",
      "<class 'email.mime.application.MIMEApplication'>\n",
      "application/pdf\n",
      "<class 'email.mime.audio.MIMEAudio'>\n",
      "audio/mp3\n"
     ]
    }
   ],
   "source": [
    "for payload in message.get_payload():\n",
    "    print(type(payload))\n",
    "    print(payload.get_content_type())"
   ]
  },
  {
   "cell_type": "code",
   "execution_count": null,
   "metadata": {},
   "outputs": [],
   "source": []
  }
 ],
 "metadata": {
  "kernelspec": {
   "display_name": "Python 3",
   "language": "python",
   "name": "python3"
  },
  "language_info": {
   "codemirror_mode": {
    "name": "ipython",
    "version": 3
   },
   "file_extension": ".py",
   "mimetype": "text/x-python",
   "name": "python",
   "nbconvert_exporter": "python",
   "pygments_lexer": "ipython3",
   "version": "3.7.6"
  }
 },
 "nbformat": 4,
 "nbformat_minor": 4
}
